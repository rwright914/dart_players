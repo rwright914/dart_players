{
 "cells": [
  {
   "cell_type": "markdown",
   "metadata": {},
   "source": [
    "# Exploratory Data Analysis\n",
    "Performed by: Rebecca Wright<br>\n",
    "Date: May 12, 2021<br>\n",
    "\n",
    "> ## Index:\n",
    "> * Exploratory Data Analysis Notebook\n",
    ">   * Initial Dataset Notes\n",
    ">   * Initial Observations\n",
    ">   * Data Cleaning Section\n",
    ">   * EDA Section\n",
    ">     * By Country\n",
    ">     * By Rankings\n",
    ">     * By Career Earnings\n",
    ">     * By Age\n",
    ">     * By Tour Card\n",
    ">     * By Relationship: Country vs Ranking\n",
    ">     * By Relationship: Age vs Ranking\n",
    ">   * Generating Final Dataset"
   ]
  },
  {
   "cell_type": "markdown",
   "metadata": {},
   "source": [
    "***\n",
    "***"
   ]
  },
  {
   "cell_type": "markdown",
   "metadata": {},
   "source": [
    "## Import Libraries"
   ]
  },
  {
   "cell_type": "code",
   "execution_count": 2,
   "metadata": {},
   "outputs": [],
   "source": [
    "import pandas as pd\n",
    "import numpy as np\n",
    "import matplotlib.pyplot as plt\n",
    "import seaborn as sns"
   ]
  },
  {
   "cell_type": "markdown",
   "metadata": {},
   "source": [
    "<br>\n",
    "<br>"
   ]
  },
  {
   "cell_type": "markdown",
   "metadata": {},
   "source": [
    "## Import dataset"
   ]
  },
  {
   "cell_type": "code",
   "execution_count": 3,
   "metadata": {},
   "outputs": [],
   "source": [
    "data = pd.read_csv('./data/PlayerProfiles.csv')"
   ]
  },
  {
   "cell_type": "code",
   "execution_count": 4,
   "metadata": {},
   "outputs": [
    {
     "data": {
      "text/html": [
       "<div>\n",
       "<style scoped>\n",
       "    .dataframe tbody tr th:only-of-type {\n",
       "        vertical-align: middle;\n",
       "    }\n",
       "\n",
       "    .dataframe tbody tr th {\n",
       "        vertical-align: top;\n",
       "    }\n",
       "\n",
       "    .dataframe thead th {\n",
       "        text-align: right;\n",
       "    }\n",
       "</style>\n",
       "<table border=\"1\" class=\"dataframe\">\n",
       "  <thead>\n",
       "    <tr style=\"text-align: right;\">\n",
       "      <th></th>\n",
       "      <th>Name :</th>\n",
       "      <th>Country :</th>\n",
       "      <th>Age :</th>\n",
       "      <th>Date Of Birth :</th>\n",
       "      <th>Nickname :</th>\n",
       "      <th>PDC Ranking :</th>\n",
       "      <th>Tour Card :</th>\n",
       "      <th>Career Earnings :</th>\n",
       "    </tr>\n",
       "  </thead>\n",
       "  <tbody>\n",
       "    <tr>\n",
       "      <th>0</th>\n",
       "      <td>Michael van Gerwen</td>\n",
       "      <td>Netherlands</td>\n",
       "      <td>32</td>\n",
       "      <td>4/25/1989</td>\n",
       "      <td>Mighty Mike</td>\n",
       "      <td>1</td>\n",
       "      <td>Yes</td>\n",
       "      <td>£8,321,167</td>\n",
       "    </tr>\n",
       "    <tr>\n",
       "      <th>1</th>\n",
       "      <td>Peter Wright</td>\n",
       "      <td>Scotland</td>\n",
       "      <td>51</td>\n",
       "      <td>3/10/1970</td>\n",
       "      <td>Snake Bite</td>\n",
       "      <td>2</td>\n",
       "      <td>Yes</td>\n",
       "      <td>£3,469,888</td>\n",
       "    </tr>\n",
       "    <tr>\n",
       "      <th>2</th>\n",
       "      <td>Gerwyn Price</td>\n",
       "      <td>Wales</td>\n",
       "      <td>36</td>\n",
       "      <td>3/7/1985</td>\n",
       "      <td>The Iceman</td>\n",
       "      <td>3</td>\n",
       "      <td>Yes</td>\n",
       "      <td>£1,497,803</td>\n",
       "    </tr>\n",
       "    <tr>\n",
       "      <th>3</th>\n",
       "      <td>Adrian Lewis</td>\n",
       "      <td>England</td>\n",
       "      <td>36</td>\n",
       "      <td>1/21/1985</td>\n",
       "      <td>Jackpot</td>\n",
       "      <td>13</td>\n",
       "      <td>Yes</td>\n",
       "      <td>£3,137,634</td>\n",
       "    </tr>\n",
       "    <tr>\n",
       "      <th>4</th>\n",
       "      <td>James Wade</td>\n",
       "      <td>England</td>\n",
       "      <td>38</td>\n",
       "      <td>4/6/1983</td>\n",
       "      <td>The Machine</td>\n",
       "      <td>9</td>\n",
       "      <td>Yes</td>\n",
       "      <td>£3,458,893</td>\n",
       "    </tr>\n",
       "  </tbody>\n",
       "</table>\n",
       "</div>"
      ],
      "text/plain": [
       "               Name :    Country :  Age : Date Of Birth :   Nickname :  \\\n",
       "0  Michael van Gerwen  Netherlands     32       4/25/1989  Mighty Mike   \n",
       "1        Peter Wright     Scotland     51       3/10/1970   Snake Bite   \n",
       "2        Gerwyn Price        Wales     36        3/7/1985   The Iceman   \n",
       "3        Adrian Lewis      England     36       1/21/1985      Jackpot   \n",
       "4          James Wade      England     38        4/6/1983  The Machine   \n",
       "\n",
       "   PDC Ranking : Tour Card : Career Earnings :  \n",
       "0              1         Yes        £8,321,167  \n",
       "1              2         Yes        £3,469,888  \n",
       "2              3         Yes        £1,497,803  \n",
       "3             13         Yes        £3,137,634  \n",
       "4              9         Yes        £3,458,893  "
      ]
     },
     "execution_count": 4,
     "metadata": {},
     "output_type": "execute_result"
    }
   ],
   "source": [
    "data.head()"
   ]
  },
  {
   "cell_type": "code",
   "execution_count": 5,
   "metadata": {},
   "outputs": [
    {
     "name": "stdout",
     "output_type": "stream",
     "text": [
      "<class 'pandas.core.frame.DataFrame'>\n",
      "RangeIndex: 96 entries, 0 to 95\n",
      "Data columns (total 8 columns):\n",
      " #   Column             Non-Null Count  Dtype \n",
      "---  ------             --------------  ----- \n",
      " 0   Name :             96 non-null     object\n",
      " 1   Country :          96 non-null     object\n",
      " 2   Age :              96 non-null     int64 \n",
      " 3   Date Of Birth :    96 non-null     object\n",
      " 4   Nickname :         96 non-null     object\n",
      " 5   PDC Ranking :      96 non-null     int64 \n",
      " 6   Tour Card :        96 non-null     object\n",
      " 7   Career Earnings :  96 non-null     object\n",
      "dtypes: int64(2), object(6)\n",
      "memory usage: 6.1+ KB\n"
     ]
    }
   ],
   "source": [
    "data.info()"
   ]
  },
  {
   "cell_type": "markdown",
   "metadata": {},
   "source": [
    "<br>\n",
    "<br>"
   ]
  },
  {
   "cell_type": "markdown",
   "metadata": {},
   "source": [
    "## Initial Dataset Notes:"
   ]
  },
  {
   "cell_type": "markdown",
   "metadata": {},
   "source": [
    "* 96 rows of players\n",
    "* no null values\n",
    "* non-alpha characters in column names\n",
    "* \"career earnings\" column is object dtype"
   ]
  },
  {
   "cell_type": "markdown",
   "metadata": {},
   "source": [
    "<br>\n",
    "<br>"
   ]
  },
  {
   "cell_type": "markdown",
   "metadata": {},
   "source": [
    "## Initial Observations:"
   ]
  },
  {
   "cell_type": "markdown",
   "metadata": {},
   "source": [
    "* **Career Earnings**: value cannot be used to compare players directly as dataset does not reflect how long each player has been an active competitor"
   ]
  },
  {
   "cell_type": "markdown",
   "metadata": {},
   "source": [
    "* **Country**: value may be helpful.  Countries where darts are historically more popular may correlate with higher performance rankings by their competitors.  Countries of lower player representation seem to produce competitors of lower performance rank."
   ]
  },
  {
   "cell_type": "markdown",
   "metadata": {},
   "source": [
    "<br>\n",
    "<br>"
   ]
  },
  {
   "cell_type": "markdown",
   "metadata": {},
   "source": [
    "## Data Cleaning Section"
   ]
  },
  {
   "cell_type": "markdown",
   "metadata": {},
   "source": [
    "#### **Step 1**: Renamed columns to remove trailing \" :\""
   ]
  },
  {
   "cell_type": "code",
   "execution_count": 6,
   "metadata": {},
   "outputs": [],
   "source": [
    "data.rename(columns=lambda x: x[:-2], inplace=True)"
   ]
  },
  {
   "cell_type": "markdown",
   "metadata": {},
   "source": [
    "#### **Step 2**: Identify duplicates"
   ]
  },
  {
   "cell_type": "markdown",
   "metadata": {},
   "source": [
    "#### **Step 2a**: Handle potential duplicate row enteries"
   ]
  },
  {
   "cell_type": "code",
   "execution_count": 7,
   "metadata": {},
   "outputs": [
    {
     "data": {
      "text/html": [
       "<div>\n",
       "<style scoped>\n",
       "    .dataframe tbody tr th:only-of-type {\n",
       "        vertical-align: middle;\n",
       "    }\n",
       "\n",
       "    .dataframe tbody tr th {\n",
       "        vertical-align: top;\n",
       "    }\n",
       "\n",
       "    .dataframe thead th {\n",
       "        text-align: right;\n",
       "    }\n",
       "</style>\n",
       "<table border=\"1\" class=\"dataframe\">\n",
       "  <thead>\n",
       "    <tr style=\"text-align: right;\">\n",
       "      <th></th>\n",
       "      <th>Name</th>\n",
       "      <th>Country</th>\n",
       "      <th>Age</th>\n",
       "      <th>Date Of Birth</th>\n",
       "      <th>Nickname</th>\n",
       "      <th>PDC Ranking</th>\n",
       "      <th>Tour Card</th>\n",
       "      <th>Career Earnings</th>\n",
       "    </tr>\n",
       "  </thead>\n",
       "  <tbody>\n",
       "    <tr>\n",
       "      <th>0</th>\n",
       "      <td>Michael van Gerwen</td>\n",
       "      <td>Netherlands</td>\n",
       "      <td>32</td>\n",
       "      <td>4/25/1989</td>\n",
       "      <td>Mighty Mike</td>\n",
       "      <td>1</td>\n",
       "      <td>Yes</td>\n",
       "      <td>£8,321,167</td>\n",
       "    </tr>\n",
       "    <tr>\n",
       "      <th>34</th>\n",
       "      <td>Michael van Gerwen</td>\n",
       "      <td>Netherlands</td>\n",
       "      <td>32</td>\n",
       "      <td>4/25/1989</td>\n",
       "      <td>Mighty Mike</td>\n",
       "      <td>1</td>\n",
       "      <td>Yes</td>\n",
       "      <td>£8,321,167</td>\n",
       "    </tr>\n",
       "    <tr>\n",
       "      <th>19</th>\n",
       "      <td>Michael van Gerwen</td>\n",
       "      <td>Netherlands</td>\n",
       "      <td>32</td>\n",
       "      <td>4/25/1989</td>\n",
       "      <td>Mighty Mike</td>\n",
       "      <td>1</td>\n",
       "      <td>Yes</td>\n",
       "      <td>£8,321,167</td>\n",
       "    </tr>\n",
       "    <tr>\n",
       "      <th>1</th>\n",
       "      <td>Peter Wright</td>\n",
       "      <td>Scotland</td>\n",
       "      <td>51</td>\n",
       "      <td>3/10/1970</td>\n",
       "      <td>Snake Bite</td>\n",
       "      <td>2</td>\n",
       "      <td>Yes</td>\n",
       "      <td>£3,469,888</td>\n",
       "    </tr>\n",
       "    <tr>\n",
       "      <th>35</th>\n",
       "      <td>Peter Wright</td>\n",
       "      <td>Scotland</td>\n",
       "      <td>51</td>\n",
       "      <td>3/10/1970</td>\n",
       "      <td>Snake Bite</td>\n",
       "      <td>2</td>\n",
       "      <td>Yes</td>\n",
       "      <td>£3,469,888</td>\n",
       "    </tr>\n",
       "    <tr>\n",
       "      <th>...</th>\n",
       "      <td>...</td>\n",
       "      <td>...</td>\n",
       "      <td>...</td>\n",
       "      <td>...</td>\n",
       "      <td>...</td>\n",
       "      <td>...</td>\n",
       "      <td>...</td>\n",
       "      <td>...</td>\n",
       "    </tr>\n",
       "    <tr>\n",
       "      <th>67</th>\n",
       "      <td>Lisa Ashton</td>\n",
       "      <td>England</td>\n",
       "      <td>50</td>\n",
       "      <td>8/27/1970</td>\n",
       "      <td>The Lancashire Rose</td>\n",
       "      <td>125</td>\n",
       "      <td>2 Year</td>\n",
       "      <td>£150,704</td>\n",
       "    </tr>\n",
       "    <tr>\n",
       "      <th>80</th>\n",
       "      <td>Andrew Gilding</td>\n",
       "      <td>England</td>\n",
       "      <td>50</td>\n",
       "      <td>12/7/1970</td>\n",
       "      <td>Goldfinger</td>\n",
       "      <td>126</td>\n",
       "      <td>No</td>\n",
       "      <td>£234,609</td>\n",
       "    </tr>\n",
       "    <tr>\n",
       "      <th>26</th>\n",
       "      <td>Ronny Huybrechts</td>\n",
       "      <td>Belgium</td>\n",
       "      <td>55</td>\n",
       "      <td>7/20/1965</td>\n",
       "      <td>The Rebel</td>\n",
       "      <td>127</td>\n",
       "      <td>No</td>\n",
       "      <td>£270,743</td>\n",
       "    </tr>\n",
       "    <tr>\n",
       "      <th>41</th>\n",
       "      <td>Ronny Huybrechts</td>\n",
       "      <td>Belgium</td>\n",
       "      <td>55</td>\n",
       "      <td>7/20/1965</td>\n",
       "      <td>The Rebel</td>\n",
       "      <td>127</td>\n",
       "      <td>No</td>\n",
       "      <td>£270,743</td>\n",
       "    </tr>\n",
       "    <tr>\n",
       "      <th>89</th>\n",
       "      <td>Diogo Portela</td>\n",
       "      <td>Brazil</td>\n",
       "      <td>32</td>\n",
       "      <td>6/12/1988</td>\n",
       "      <td>Braziliant</td>\n",
       "      <td>153</td>\n",
       "      <td>No</td>\n",
       "      <td>£59,367</td>\n",
       "    </tr>\n",
       "  </tbody>\n",
       "</table>\n",
       "<p>96 rows × 8 columns</p>\n",
       "</div>"
      ],
      "text/plain": [
       "                  Name      Country  Age Date Of Birth             Nickname  \\\n",
       "0   Michael van Gerwen  Netherlands   32     4/25/1989          Mighty Mike   \n",
       "34  Michael van Gerwen  Netherlands   32     4/25/1989          Mighty Mike   \n",
       "19  Michael van Gerwen  Netherlands   32     4/25/1989          Mighty Mike   \n",
       "1         Peter Wright     Scotland   51     3/10/1970           Snake Bite   \n",
       "35        Peter Wright     Scotland   51     3/10/1970           Snake Bite   \n",
       "..                 ...          ...  ...           ...                  ...   \n",
       "67         Lisa Ashton      England   50     8/27/1970  The Lancashire Rose   \n",
       "80      Andrew Gilding      England   50     12/7/1970           Goldfinger   \n",
       "26    Ronny Huybrechts      Belgium   55     7/20/1965            The Rebel   \n",
       "41    Ronny Huybrechts      Belgium   55     7/20/1965            The Rebel   \n",
       "89       Diogo Portela       Brazil   32     6/12/1988           Braziliant   \n",
       "\n",
       "    PDC Ranking Tour Card Career Earnings  \n",
       "0             1       Yes      £8,321,167  \n",
       "34            1       Yes      £8,321,167  \n",
       "19            1       Yes      £8,321,167  \n",
       "1             2       Yes      £3,469,888  \n",
       "35            2       Yes      £3,469,888  \n",
       "..          ...       ...             ...  \n",
       "67          125    2 Year        £150,704  \n",
       "80          126        No        £234,609  \n",
       "26          127        No        £270,743  \n",
       "41          127        No        £270,743  \n",
       "89          153        No         £59,367  \n",
       "\n",
       "[96 rows x 8 columns]"
      ]
     },
     "execution_count": 7,
     "metadata": {},
     "output_type": "execute_result"
    }
   ],
   "source": [
    "data.sort_values(by=\"PDC Ranking\")"
   ]
  },
  {
   "cell_type": "code",
   "execution_count": 8,
   "metadata": {},
   "outputs": [],
   "source": [
    "data.drop_duplicates(inplace=True)"
   ]
  },
  {
   "cell_type": "code",
   "execution_count": 9,
   "metadata": {},
   "outputs": [],
   "source": [
    "data.reset_index(drop=True, inplace=True)"
   ]
  },
  {
   "cell_type": "markdown",
   "metadata": {},
   "source": [
    "#### **Step 2b:** Handle potential repeats within Name column"
   ]
  },
  {
   "cell_type": "code",
   "execution_count": 10,
   "metadata": {},
   "outputs": [
    {
     "data": {
      "text/plain": [
       "(78,)"
      ]
     },
     "execution_count": 10,
     "metadata": {},
     "output_type": "execute_result"
    }
   ],
   "source": [
    "data['Name'].shape"
   ]
  },
  {
   "cell_type": "code",
   "execution_count": 11,
   "metadata": {},
   "outputs": [
    {
     "data": {
      "text/plain": [
       "(78,)"
      ]
     },
     "execution_count": 11,
     "metadata": {},
     "output_type": "execute_result"
    }
   ],
   "source": [
    "np.unique(data['Name']).shape"
   ]
  },
  {
   "cell_type": "markdown",
   "metadata": {},
   "source": [
    "#### **Step 2c:** Handle potential repeats within Nickname column"
   ]
  },
  {
   "cell_type": "code",
   "execution_count": 12,
   "metadata": {},
   "outputs": [
    {
     "data": {
      "text/plain": [
       "(78,)"
      ]
     },
     "execution_count": 12,
     "metadata": {},
     "output_type": "execute_result"
    }
   ],
   "source": [
    "data['Nickname'].shape"
   ]
  },
  {
   "cell_type": "code",
   "execution_count": 13,
   "metadata": {},
   "outputs": [
    {
     "data": {
      "text/plain": [
       "(77,)"
      ]
     },
     "execution_count": 13,
     "metadata": {},
     "output_type": "execute_result"
    }
   ],
   "source": [
    "np.unique(data['Nickname']).shape"
   ]
  },
  {
   "cell_type": "code",
   "execution_count": 14,
   "metadata": {},
   "outputs": [
    {
     "data": {
      "text/plain": [
       "The Spartan      2\n",
       "Chizzy           1\n",
       "Hollywood        1\n",
       "Superman         1\n",
       "The Lionheart    1\n",
       "                ..\n",
       "Noppie           1\n",
       "The Thorn        1\n",
       "The Hammer       1\n",
       "Cool Hand        1\n",
       "The Needle       1\n",
       "Name: Nickname, Length: 77, dtype: int64"
      ]
     },
     "execution_count": 14,
     "metadata": {},
     "output_type": "execute_result"
    }
   ],
   "source": [
    "data['Nickname'].value_counts()"
   ]
  },
  {
   "cell_type": "code",
   "execution_count": 15,
   "metadata": {},
   "outputs": [
    {
     "data": {
      "text/html": [
       "<div>\n",
       "<style scoped>\n",
       "    .dataframe tbody tr th:only-of-type {\n",
       "        vertical-align: middle;\n",
       "    }\n",
       "\n",
       "    .dataframe tbody tr th {\n",
       "        vertical-align: top;\n",
       "    }\n",
       "\n",
       "    .dataframe thead th {\n",
       "        text-align: right;\n",
       "    }\n",
       "</style>\n",
       "<table border=\"1\" class=\"dataframe\">\n",
       "  <thead>\n",
       "    <tr style=\"text-align: right;\">\n",
       "      <th></th>\n",
       "      <th>Name</th>\n",
       "      <th>Country</th>\n",
       "      <th>Age</th>\n",
       "      <th>Date Of Birth</th>\n",
       "      <th>Nickname</th>\n",
       "      <th>PDC Ranking</th>\n",
       "      <th>Tour Card</th>\n",
       "      <th>Career Earnings</th>\n",
       "    </tr>\n",
       "  </thead>\n",
       "  <tbody>\n",
       "    <tr>\n",
       "      <th>59</th>\n",
       "      <td>Devon Petersen</td>\n",
       "      <td>South Africa</td>\n",
       "      <td>34</td>\n",
       "      <td>11/27/1986</td>\n",
       "      <td>The Spartan</td>\n",
       "      <td>54</td>\n",
       "      <td>Yes</td>\n",
       "      <td>£228,784</td>\n",
       "    </tr>\n",
       "    <tr>\n",
       "      <th>76</th>\n",
       "      <td>Cristo Reyes</td>\n",
       "      <td>Spain</td>\n",
       "      <td>33</td>\n",
       "      <td>7/30/1987</td>\n",
       "      <td>The Spartan</td>\n",
       "      <td>46</td>\n",
       "      <td>Yes</td>\n",
       "      <td>£343,004</td>\n",
       "    </tr>\n",
       "  </tbody>\n",
       "</table>\n",
       "</div>"
      ],
      "text/plain": [
       "              Name       Country  Age Date Of Birth     Nickname  PDC Ranking  \\\n",
       "59  Devon Petersen  South Africa   34    11/27/1986  The Spartan           54   \n",
       "76    Cristo Reyes         Spain   33     7/30/1987  The Spartan           46   \n",
       "\n",
       "   Tour Card Career Earnings  \n",
       "59       Yes        £228,784  \n",
       "76       Yes        £343,004  "
      ]
     },
     "execution_count": 15,
     "metadata": {},
     "output_type": "execute_result"
    }
   ],
   "source": [
    "data.loc[data['Nickname'] == 'The Spartan']"
   ]
  },
  {
   "cell_type": "markdown",
   "metadata": {},
   "source": [
    "#### **Notes**: Duplicate Nickname identified\n",
    "* The Spartan appears twice\n",
    "* No issue with duplication"
   ]
  },
  {
   "cell_type": "markdown",
   "metadata": {},
   "source": [
    "#### **Step 3**: Convert Career Earning object values to integer values"
   ]
  },
  {
   "cell_type": "code",
   "execution_count": 16,
   "metadata": {},
   "outputs": [],
   "source": [
    "data['Career Earnings'].replace(\"[^0-9]\", \"\",regex=True, inplace=True)"
   ]
  },
  {
   "cell_type": "code",
   "execution_count": 17,
   "metadata": {},
   "outputs": [],
   "source": [
    "data['Career Earnings'] = data['Career Earnings'].astype(int)"
   ]
  },
  {
   "cell_type": "markdown",
   "metadata": {},
   "source": [
    "<br>\n",
    "<br>"
   ]
  },
  {
   "cell_type": "markdown",
   "metadata": {},
   "source": [
    "## EDA Section"
   ]
  },
  {
   "cell_type": "markdown",
   "metadata": {},
   "source": [
    "### By Country"
   ]
  },
  {
   "cell_type": "markdown",
   "metadata": {},
   "source": [
    "**Question**: Where are the dart players from?<br>\n",
    "**Answer**: 50% England, 13% Netherlands, 5% Scotland, 5% Wales, etc ..."
   ]
  },
  {
   "cell_type": "code",
   "execution_count": 18,
   "metadata": {},
   "outputs": [
    {
     "data": {
      "text/plain": [
       "England             39\n",
       "Netherlands         10\n",
       "Wales                4\n",
       "Scotland             4\n",
       "Northern Ireland     3\n",
       "Belgium              3\n",
       "Spain                2\n",
       "Germany              2\n",
       "Australia            2\n",
       "Austria              2\n",
       "South Africa         1\n",
       "Ireland              1\n",
       "Canada               1\n",
       "Lithuania            1\n",
       "Greece               1\n",
       "Brazil               1\n",
       "Latvia               1\n",
       "Name: Country, dtype: int64"
      ]
     },
     "execution_count": 18,
     "metadata": {},
     "output_type": "execute_result"
    }
   ],
   "source": [
    "data['Country'].value_counts()"
   ]
  },
  {
   "cell_type": "code",
   "execution_count": 19,
   "metadata": {},
   "outputs": [
    {
     "data": {
      "text/plain": [
       "England             0.500000\n",
       "Netherlands         0.128205\n",
       "Wales               0.051282\n",
       "Scotland            0.051282\n",
       "Northern Ireland    0.038462\n",
       "Belgium             0.038462\n",
       "Spain               0.025641\n",
       "Germany             0.025641\n",
       "Australia           0.025641\n",
       "Austria             0.025641\n",
       "South Africa        0.012821\n",
       "Ireland             0.012821\n",
       "Canada              0.012821\n",
       "Lithuania           0.012821\n",
       "Greece              0.012821\n",
       "Brazil              0.012821\n",
       "Latvia              0.012821\n",
       "Name: Country, dtype: float64"
      ]
     },
     "execution_count": 19,
     "metadata": {},
     "output_type": "execute_result"
    }
   ],
   "source": [
    "data['Country'].value_counts(normalize=True)"
   ]
  },
  {
   "cell_type": "code",
   "execution_count": 323,
   "metadata": {},
   "outputs": [
    {
     "data": {
      "image/png": "[encoded data removed]",
      "text/plain": [
       "<Figure size 1440x720 with 1 Axes>"
      ]
     },
     "metadata": {
      "needs_background": "light"
     },
     "output_type": "display_data"
    }
   ],
   "source": [
    "plt.figure(figsize=(20,10))\n",
    "sns.countplot(x=\"Country\", data=data)\n",
    "plt.title('Distribution of Countries', fontsize = 20);"
   ]
  },
  {
   "cell_type": "markdown",
   "metadata": {},
   "source": [
    "<br>\n",
    "<br>"
   ]
  },
  {
   "cell_type": "markdown",
   "metadata": {},
   "source": [
    "## By Rankings"
   ]
  },
  {
   "cell_type": "markdown",
   "metadata": {},
   "source": [
    "**Action**: As part of data cleaning, confirm all players have unique ranking value."
   ]
  },
  {
   "cell_type": "markdown",
   "metadata": {},
   "source": [
    "**Observation**: PDC Ranking values are non-consecutively represented values"
   ]
  },
  {
   "cell_type": "code",
   "execution_count": 21,
   "metadata": {},
   "outputs": [
    {
     "data": {
      "text/plain": [
       "(78,)"
      ]
     },
     "execution_count": 21,
     "metadata": {},
     "output_type": "execute_result"
    }
   ],
   "source": [
    "data['PDC Ranking'].shape"
   ]
  },
  {
   "cell_type": "code",
   "execution_count": 22,
   "metadata": {},
   "outputs": [
    {
     "data": {
      "text/plain": [
       "(78,)"
      ]
     },
     "execution_count": 22,
     "metadata": {},
     "output_type": "execute_result"
    }
   ],
   "source": [
    "np.unique(data['PDC Ranking']).shape"
   ]
  },
  {
   "cell_type": "code",
   "execution_count": 23,
   "metadata": {},
   "outputs": [
    {
     "data": {
      "text/html": [
       "<div>\n",
       "<style scoped>\n",
       "    .dataframe tbody tr th:only-of-type {\n",
       "        vertical-align: middle;\n",
       "    }\n",
       "\n",
       "    .dataframe tbody tr th {\n",
       "        vertical-align: top;\n",
       "    }\n",
       "\n",
       "    .dataframe thead th {\n",
       "        text-align: right;\n",
       "    }\n",
       "</style>\n",
       "<table border=\"1\" class=\"dataframe\">\n",
       "  <thead>\n",
       "    <tr style=\"text-align: right;\">\n",
       "      <th></th>\n",
       "      <th>Name</th>\n",
       "      <th>Country</th>\n",
       "      <th>Age</th>\n",
       "      <th>Date Of Birth</th>\n",
       "      <th>Nickname</th>\n",
       "      <th>PDC Ranking</th>\n",
       "      <th>Tour Card</th>\n",
       "      <th>Career Earnings</th>\n",
       "    </tr>\n",
       "  </thead>\n",
       "  <tbody>\n",
       "    <tr>\n",
       "      <th>0</th>\n",
       "      <td>Michael van Gerwen</td>\n",
       "      <td>Netherlands</td>\n",
       "      <td>32</td>\n",
       "      <td>4/25/1989</td>\n",
       "      <td>Mighty Mike</td>\n",
       "      <td>1</td>\n",
       "      <td>Yes</td>\n",
       "      <td>8321167</td>\n",
       "    </tr>\n",
       "    <tr>\n",
       "      <th>1</th>\n",
       "      <td>Peter Wright</td>\n",
       "      <td>Scotland</td>\n",
       "      <td>51</td>\n",
       "      <td>3/10/1970</td>\n",
       "      <td>Snake Bite</td>\n",
       "      <td>2</td>\n",
       "      <td>Yes</td>\n",
       "      <td>3469888</td>\n",
       "    </tr>\n",
       "    <tr>\n",
       "      <th>2</th>\n",
       "      <td>Gerwyn Price</td>\n",
       "      <td>Wales</td>\n",
       "      <td>36</td>\n",
       "      <td>3/7/1985</td>\n",
       "      <td>The Iceman</td>\n",
       "      <td>3</td>\n",
       "      <td>Yes</td>\n",
       "      <td>1497803</td>\n",
       "    </tr>\n",
       "    <tr>\n",
       "      <th>77</th>\n",
       "      <td>Rob Cross</td>\n",
       "      <td>England</td>\n",
       "      <td>30</td>\n",
       "      <td>9/21/1990</td>\n",
       "      <td>Voltage</td>\n",
       "      <td>4</td>\n",
       "      <td>Yes</td>\n",
       "      <td>1622600</td>\n",
       "    </tr>\n",
       "    <tr>\n",
       "      <th>52</th>\n",
       "      <td>Michael Smith</td>\n",
       "      <td>England</td>\n",
       "      <td>30</td>\n",
       "      <td>9/18/1990</td>\n",
       "      <td>Bully Boy</td>\n",
       "      <td>5</td>\n",
       "      <td>Yes</td>\n",
       "      <td>1769935</td>\n",
       "    </tr>\n",
       "    <tr>\n",
       "      <th>...</th>\n",
       "      <td>...</td>\n",
       "      <td>...</td>\n",
       "      <td>...</td>\n",
       "      <td>...</td>\n",
       "      <td>...</td>\n",
       "      <td>...</td>\n",
       "      <td>...</td>\n",
       "      <td>...</td>\n",
       "    </tr>\n",
       "    <tr>\n",
       "      <th>71</th>\n",
       "      <td>Rhys Hayden</td>\n",
       "      <td>England</td>\n",
       "      <td>26</td>\n",
       "      <td>10/8/1994</td>\n",
       "      <td>Lightning</td>\n",
       "      <td>124</td>\n",
       "      <td>No</td>\n",
       "      <td>18672</td>\n",
       "    </tr>\n",
       "    <tr>\n",
       "      <th>50</th>\n",
       "      <td>Lisa Ashton</td>\n",
       "      <td>England</td>\n",
       "      <td>50</td>\n",
       "      <td>8/27/1970</td>\n",
       "      <td>The Lancashire Rose</td>\n",
       "      <td>125</td>\n",
       "      <td>2 Year</td>\n",
       "      <td>150704</td>\n",
       "    </tr>\n",
       "    <tr>\n",
       "      <th>63</th>\n",
       "      <td>Andrew Gilding</td>\n",
       "      <td>England</td>\n",
       "      <td>50</td>\n",
       "      <td>12/7/1970</td>\n",
       "      <td>Goldfinger</td>\n",
       "      <td>126</td>\n",
       "      <td>No</td>\n",
       "      <td>234609</td>\n",
       "    </tr>\n",
       "    <tr>\n",
       "      <th>24</th>\n",
       "      <td>Ronny Huybrechts</td>\n",
       "      <td>Belgium</td>\n",
       "      <td>55</td>\n",
       "      <td>7/20/1965</td>\n",
       "      <td>The Rebel</td>\n",
       "      <td>127</td>\n",
       "      <td>No</td>\n",
       "      <td>270743</td>\n",
       "    </tr>\n",
       "    <tr>\n",
       "      <th>72</th>\n",
       "      <td>Diogo Portela</td>\n",
       "      <td>Brazil</td>\n",
       "      <td>32</td>\n",
       "      <td>6/12/1988</td>\n",
       "      <td>Braziliant</td>\n",
       "      <td>153</td>\n",
       "      <td>No</td>\n",
       "      <td>59367</td>\n",
       "    </tr>\n",
       "  </tbody>\n",
       "</table>\n",
       "<p>78 rows × 8 columns</p>\n",
       "</div>"
      ],
      "text/plain": [
       "                  Name      Country  Age Date Of Birth             Nickname  \\\n",
       "0   Michael van Gerwen  Netherlands   32     4/25/1989          Mighty Mike   \n",
       "1         Peter Wright     Scotland   51     3/10/1970           Snake Bite   \n",
       "2         Gerwyn Price        Wales   36      3/7/1985           The Iceman   \n",
       "77           Rob Cross      England   30     9/21/1990              Voltage   \n",
       "52       Michael Smith      England   30     9/18/1990            Bully Boy   \n",
       "..                 ...          ...  ...           ...                  ...   \n",
       "71         Rhys Hayden      England   26     10/8/1994            Lightning   \n",
       "50         Lisa Ashton      England   50     8/27/1970  The Lancashire Rose   \n",
       "63      Andrew Gilding      England   50     12/7/1970           Goldfinger   \n",
       "24    Ronny Huybrechts      Belgium   55     7/20/1965            The Rebel   \n",
       "72       Diogo Portela       Brazil   32     6/12/1988           Braziliant   \n",
       "\n",
       "    PDC Ranking Tour Card  Career Earnings  \n",
       "0             1       Yes          8321167  \n",
       "1             2       Yes          3469888  \n",
       "2             3       Yes          1497803  \n",
       "77            4       Yes          1622600  \n",
       "52            5       Yes          1769935  \n",
       "..          ...       ...              ...  \n",
       "71          124        No            18672  \n",
       "50          125    2 Year           150704  \n",
       "63          126        No           234609  \n",
       "24          127        No           270743  \n",
       "72          153        No            59367  \n",
       "\n",
       "[78 rows x 8 columns]"
      ]
     },
     "execution_count": 23,
     "metadata": {},
     "output_type": "execute_result"
    }
   ],
   "source": [
    "data.sort_values('PDC Ranking')"
   ]
  },
  {
   "cell_type": "code",
   "execution_count": 321,
   "metadata": {},
   "outputs": [
    {
     "data": {
      "image/png": "[encoded data removed]",
      "text/plain": [
       "<Figure size 1440x720 with 1 Axes>"
      ]
     },
     "metadata": {
      "needs_background": "light"
     },
     "output_type": "display_data"
    }
   ],
   "source": [
    "plt.figure(figsize=(20,10))\n",
    "sns.swarmplot(x=\"PDC Ranking\", data=data)\n",
    "plt.title('Distribution of Rankings', fontsize = 20);"
   ]
  },
  {
   "cell_type": "markdown",
   "metadata": {},
   "source": [
    "### **Feature Engineered:** Create ranking_index Column.\n",
    "Sort dataset by PDC Ranking and create index reference values."
   ]
  },
  {
   "cell_type": "code",
   "execution_count": 25,
   "metadata": {},
   "outputs": [],
   "source": [
    "data.sort_values('PDC Ranking', ascending = True, inplace=True)"
   ]
  },
  {
   "cell_type": "code",
   "execution_count": 26,
   "metadata": {},
   "outputs": [],
   "source": [
    "data['ranking_index'] = data.reset_index().index"
   ]
  },
  {
   "cell_type": "code",
   "execution_count": 27,
   "metadata": {},
   "outputs": [
    {
     "data": {
      "text/html": [
       "<div>\n",
       "<style scoped>\n",
       "    .dataframe tbody tr th:only-of-type {\n",
       "        vertical-align: middle;\n",
       "    }\n",
       "\n",
       "    .dataframe tbody tr th {\n",
       "        vertical-align: top;\n",
       "    }\n",
       "\n",
       "    .dataframe thead th {\n",
       "        text-align: right;\n",
       "    }\n",
       "</style>\n",
       "<table border=\"1\" class=\"dataframe\">\n",
       "  <thead>\n",
       "    <tr style=\"text-align: right;\">\n",
       "      <th></th>\n",
       "      <th>Name</th>\n",
       "      <th>Country</th>\n",
       "      <th>Age</th>\n",
       "      <th>Date Of Birth</th>\n",
       "      <th>Nickname</th>\n",
       "      <th>PDC Ranking</th>\n",
       "      <th>Tour Card</th>\n",
       "      <th>Career Earnings</th>\n",
       "      <th>ranking_index</th>\n",
       "    </tr>\n",
       "  </thead>\n",
       "  <tbody>\n",
       "    <tr>\n",
       "      <th>0</th>\n",
       "      <td>Michael van Gerwen</td>\n",
       "      <td>Netherlands</td>\n",
       "      <td>32</td>\n",
       "      <td>4/25/1989</td>\n",
       "      <td>Mighty Mike</td>\n",
       "      <td>1</td>\n",
       "      <td>Yes</td>\n",
       "      <td>8321167</td>\n",
       "      <td>0</td>\n",
       "    </tr>\n",
       "    <tr>\n",
       "      <th>1</th>\n",
       "      <td>Peter Wright</td>\n",
       "      <td>Scotland</td>\n",
       "      <td>51</td>\n",
       "      <td>3/10/1970</td>\n",
       "      <td>Snake Bite</td>\n",
       "      <td>2</td>\n",
       "      <td>Yes</td>\n",
       "      <td>3469888</td>\n",
       "      <td>1</td>\n",
       "    </tr>\n",
       "    <tr>\n",
       "      <th>2</th>\n",
       "      <td>Gerwyn Price</td>\n",
       "      <td>Wales</td>\n",
       "      <td>36</td>\n",
       "      <td>3/7/1985</td>\n",
       "      <td>The Iceman</td>\n",
       "      <td>3</td>\n",
       "      <td>Yes</td>\n",
       "      <td>1497803</td>\n",
       "      <td>2</td>\n",
       "    </tr>\n",
       "    <tr>\n",
       "      <th>77</th>\n",
       "      <td>Rob Cross</td>\n",
       "      <td>England</td>\n",
       "      <td>30</td>\n",
       "      <td>9/21/1990</td>\n",
       "      <td>Voltage</td>\n",
       "      <td>4</td>\n",
       "      <td>Yes</td>\n",
       "      <td>1622600</td>\n",
       "      <td>3</td>\n",
       "    </tr>\n",
       "    <tr>\n",
       "      <th>52</th>\n",
       "      <td>Michael Smith</td>\n",
       "      <td>England</td>\n",
       "      <td>30</td>\n",
       "      <td>9/18/1990</td>\n",
       "      <td>Bully Boy</td>\n",
       "      <td>5</td>\n",
       "      <td>Yes</td>\n",
       "      <td>1769935</td>\n",
       "      <td>4</td>\n",
       "    </tr>\n",
       "  </tbody>\n",
       "</table>\n",
       "</div>"
      ],
      "text/plain": [
       "                  Name      Country  Age Date Of Birth     Nickname  \\\n",
       "0   Michael van Gerwen  Netherlands   32     4/25/1989  Mighty Mike   \n",
       "1         Peter Wright     Scotland   51     3/10/1970   Snake Bite   \n",
       "2         Gerwyn Price        Wales   36      3/7/1985   The Iceman   \n",
       "77           Rob Cross      England   30     9/21/1990      Voltage   \n",
       "52       Michael Smith      England   30     9/18/1990    Bully Boy   \n",
       "\n",
       "    PDC Ranking Tour Card  Career Earnings  ranking_index  \n",
       "0             1       Yes          8321167              0  \n",
       "1             2       Yes          3469888              1  \n",
       "2             3       Yes          1497803              2  \n",
       "77            4       Yes          1622600              3  \n",
       "52            5       Yes          1769935              4  "
      ]
     },
     "execution_count": 27,
     "metadata": {},
     "output_type": "execute_result"
    }
   ],
   "source": [
    "data.head()"
   ]
  },
  {
   "cell_type": "markdown",
   "metadata": {},
   "source": [
    "<br>\n",
    "<br>"
   ]
  },
  {
   "cell_type": "markdown",
   "metadata": {},
   "source": [
    "## By Career Earnings"
   ]
  },
  {
   "cell_type": "markdown",
   "metadata": {},
   "source": [
    "**Observation**: Career Earnings do not correlate to PDC Ranking values directly.  PDC Rankings based on winnings from past 2 years only.  Confirmed this by creating and comparing relatable indexing values between career earnings and ranking."
   ]
  },
  {
   "cell_type": "code",
   "execution_count": 28,
   "metadata": {},
   "outputs": [
    {
     "data": {
      "text/plain": [
       "count    7.800000e+01\n",
       "mean     7.989877e+05\n",
       "std      1.202448e+06\n",
       "min      1.867200e+04\n",
       "25%      1.805180e+05\n",
       "50%      3.466580e+05\n",
       "75%      1.024786e+06\n",
       "max      8.321167e+06\n",
       "Name: Career Earnings, dtype: float64"
      ]
     },
     "execution_count": 28,
     "metadata": {},
     "output_type": "execute_result"
    }
   ],
   "source": [
    "data['Career Earnings'].describe()"
   ]
  },
  {
   "cell_type": "code",
   "execution_count": 29,
   "metadata": {},
   "outputs": [
    {
     "data": {
      "text/plain": [
       "798987.717948718"
      ]
     },
     "execution_count": 29,
     "metadata": {},
     "output_type": "execute_result"
    }
   ],
   "source": [
    "data['Career Earnings'].mean()"
   ]
  },
  {
   "cell_type": "code",
   "execution_count": 320,
   "metadata": {},
   "outputs": [
    {
     "data": {
      "image/png": "[encoded data removed]",
      "text/plain": [
       "<Figure size 1440x720 with 1 Axes>"
      ]
     },
     "metadata": {
      "needs_background": "light"
     },
     "output_type": "display_data"
    }
   ],
   "source": [
    "plt.figure(figsize=(20,10))\n",
    "sns.swarmplot(x=\"Career Earnings\", data=data)\n",
    "plt.title('Distribution of Career Earnings', fontsize = 20);"
   ]
  },
  {
   "cell_type": "markdown",
   "metadata": {},
   "source": [
    "### **Feature Engineered:** Create earning_index Column.\n",
    "Sort dataset by Career Earnings and create index reference values."
   ]
  },
  {
   "cell_type": "code",
   "execution_count": 31,
   "metadata": {},
   "outputs": [],
   "source": [
    "data.sort_values('Career Earnings', ascending = False, inplace=True)"
   ]
  },
  {
   "cell_type": "code",
   "execution_count": 32,
   "metadata": {},
   "outputs": [],
   "source": [
    "data['earning_index'] = data.reset_index().index"
   ]
  },
  {
   "cell_type": "code",
   "execution_count": 33,
   "metadata": {},
   "outputs": [
    {
     "data": {
      "text/html": [
       "<div>\n",
       "<style scoped>\n",
       "    .dataframe tbody tr th:only-of-type {\n",
       "        vertical-align: middle;\n",
       "    }\n",
       "\n",
       "    .dataframe tbody tr th {\n",
       "        vertical-align: top;\n",
       "    }\n",
       "\n",
       "    .dataframe thead th {\n",
       "        text-align: right;\n",
       "    }\n",
       "</style>\n",
       "<table border=\"1\" class=\"dataframe\">\n",
       "  <thead>\n",
       "    <tr style=\"text-align: right;\">\n",
       "      <th></th>\n",
       "      <th>Name</th>\n",
       "      <th>Country</th>\n",
       "      <th>Age</th>\n",
       "      <th>Date Of Birth</th>\n",
       "      <th>Nickname</th>\n",
       "      <th>PDC Ranking</th>\n",
       "      <th>Tour Card</th>\n",
       "      <th>Career Earnings</th>\n",
       "      <th>ranking_index</th>\n",
       "      <th>earning_index</th>\n",
       "    </tr>\n",
       "  </thead>\n",
       "  <tbody>\n",
       "    <tr>\n",
       "      <th>0</th>\n",
       "      <td>Michael van Gerwen</td>\n",
       "      <td>Netherlands</td>\n",
       "      <td>32</td>\n",
       "      <td>4/25/1989</td>\n",
       "      <td>Mighty Mike</td>\n",
       "      <td>1</td>\n",
       "      <td>Yes</td>\n",
       "      <td>8321167</td>\n",
       "      <td>0</td>\n",
       "      <td>0</td>\n",
       "    </tr>\n",
       "    <tr>\n",
       "      <th>16</th>\n",
       "      <td>Gary Anderson</td>\n",
       "      <td>Scotland</td>\n",
       "      <td>50</td>\n",
       "      <td>12/22/1970</td>\n",
       "      <td>The Flying Scotsman</td>\n",
       "      <td>8</td>\n",
       "      <td>Yes</td>\n",
       "      <td>4118772</td>\n",
       "      <td>6</td>\n",
       "      <td>1</td>\n",
       "    </tr>\n",
       "    <tr>\n",
       "      <th>1</th>\n",
       "      <td>Peter Wright</td>\n",
       "      <td>Scotland</td>\n",
       "      <td>51</td>\n",
       "      <td>3/10/1970</td>\n",
       "      <td>Snake Bite</td>\n",
       "      <td>2</td>\n",
       "      <td>Yes</td>\n",
       "      <td>3469888</td>\n",
       "      <td>1</td>\n",
       "      <td>2</td>\n",
       "    </tr>\n",
       "    <tr>\n",
       "      <th>4</th>\n",
       "      <td>James Wade</td>\n",
       "      <td>England</td>\n",
       "      <td>38</td>\n",
       "      <td>4/6/1983</td>\n",
       "      <td>The Machine</td>\n",
       "      <td>9</td>\n",
       "      <td>Yes</td>\n",
       "      <td>3458893</td>\n",
       "      <td>7</td>\n",
       "      <td>3</td>\n",
       "    </tr>\n",
       "    <tr>\n",
       "      <th>3</th>\n",
       "      <td>Adrian Lewis</td>\n",
       "      <td>England</td>\n",
       "      <td>36</td>\n",
       "      <td>1/21/1985</td>\n",
       "      <td>Jackpot</td>\n",
       "      <td>13</td>\n",
       "      <td>Yes</td>\n",
       "      <td>3137634</td>\n",
       "      <td>11</td>\n",
       "      <td>4</td>\n",
       "    </tr>\n",
       "  </tbody>\n",
       "</table>\n",
       "</div>"
      ],
      "text/plain": [
       "                  Name      Country  Age Date Of Birth             Nickname  \\\n",
       "0   Michael van Gerwen  Netherlands   32     4/25/1989          Mighty Mike   \n",
       "16       Gary Anderson     Scotland   50    12/22/1970  The Flying Scotsman   \n",
       "1         Peter Wright     Scotland   51     3/10/1970           Snake Bite   \n",
       "4           James Wade      England   38      4/6/1983          The Machine   \n",
       "3         Adrian Lewis      England   36     1/21/1985              Jackpot   \n",
       "\n",
       "    PDC Ranking Tour Card  Career Earnings  ranking_index  earning_index  \n",
       "0             1       Yes          8321167              0              0  \n",
       "16            8       Yes          4118772              6              1  \n",
       "1             2       Yes          3469888              1              2  \n",
       "4             9       Yes          3458893              7              3  \n",
       "3            13       Yes          3137634             11              4  "
      ]
     },
     "execution_count": 33,
     "metadata": {},
     "output_type": "execute_result"
    }
   ],
   "source": [
    "data.head()"
   ]
  },
  {
   "cell_type": "markdown",
   "metadata": {},
   "source": [
    "<br>\n",
    "<br>"
   ]
  },
  {
   "cell_type": "markdown",
   "metadata": {},
   "source": [
    "## By Age"
   ]
  },
  {
   "cell_type": "markdown",
   "metadata": {},
   "source": [
    "**Observation**: Fairly balanced representation of ages."
   ]
  },
  {
   "cell_type": "code",
   "execution_count": 34,
   "metadata": {},
   "outputs": [
    {
     "data": {
      "text/plain": [
       "count    78.000000\n",
       "mean     39.717949\n",
       "std       9.646879\n",
       "min      24.000000\n",
       "25%      32.000000\n",
       "50%      36.500000\n",
       "75%      49.000000\n",
       "max      57.000000\n",
       "Name: Age, dtype: float64"
      ]
     },
     "execution_count": 34,
     "metadata": {},
     "output_type": "execute_result"
    }
   ],
   "source": [
    "data['Age'].describe()"
   ]
  },
  {
   "cell_type": "code",
   "execution_count": 319,
   "metadata": {},
   "outputs": [
    {
     "data": {
      "image/png": "[encoded data removed]",
      "text/plain": [
       "<Figure size 1440x720 with 1 Axes>"
      ]
     },
     "metadata": {
      "needs_background": "light"
     },
     "output_type": "display_data"
    }
   ],
   "source": [
    "plt.figure(figsize=(20,10))\n",
    "sns.countplot(x=\"Age\", data=data)\n",
    "plt.title('Distribution of Ages', fontsize = 20);"
   ]
  },
  {
   "cell_type": "code",
   "execution_count": 318,
   "metadata": {},
   "outputs": [
    {
     "data": {
      "image/png": "[encoded data removed]",
      "text/plain": [
       "<Figure size 1440x720 with 1 Axes>"
      ]
     },
     "metadata": {
      "needs_background": "light"
     },
     "output_type": "display_data"
    }
   ],
   "source": [
    "plt.figure(figsize=(20,10))\n",
    "sns.swarmplot(x=\"Age\", data=data)\n",
    "plt.title('Distribution of Ages', fontsize = 20);"
   ]
  },
  {
   "cell_type": "code",
   "execution_count": 37,
   "metadata": {},
   "outputs": [
    {
     "data": {
      "text/plain": [
       "50    0.076923\n",
       "30    0.076923\n",
       "36    0.064103\n",
       "32    0.064103\n",
       "47    0.051282\n",
       "34    0.051282\n",
       "35    0.051282\n",
       "48    0.038462\n",
       "49    0.038462\n",
       "40    0.038462\n",
       "28    0.038462\n",
       "26    0.038462\n",
       "45    0.025641\n",
       "53    0.025641\n",
       "54    0.025641\n",
       "51    0.025641\n",
       "55    0.025641\n",
       "52    0.025641\n",
       "24    0.025641\n",
       "44    0.025641\n",
       "33    0.025641\n",
       "31    0.025641\n",
       "46    0.012821\n",
       "42    0.012821\n",
       "25    0.012821\n",
       "38    0.012821\n",
       "37    0.012821\n",
       "29    0.012821\n",
       "27    0.012821\n",
       "56    0.012821\n",
       "57    0.012821\n",
       "Name: Age, dtype: float64"
      ]
     },
     "execution_count": 37,
     "metadata": {},
     "output_type": "execute_result"
    }
   ],
   "source": [
    "data['Age'].value_counts(normalize=True)"
   ]
  },
  {
   "cell_type": "markdown",
   "metadata": {},
   "source": [
    "<br>\n",
    "<br>"
   ]
  },
  {
   "cell_type": "markdown",
   "metadata": {},
   "source": [
    "## By Tour Card"
   ]
  },
  {
   "cell_type": "markdown",
   "metadata": {},
   "source": [
    "**Observation**: Surprised by the presences of non-tour card players in set."
   ]
  },
  {
   "cell_type": "code",
   "execution_count": 38,
   "metadata": {},
   "outputs": [
    {
     "data": {
      "text/plain": [
       "Yes       63\n",
       "2 Year    10\n",
       "No         5\n",
       "Name: Tour Card, dtype: int64"
      ]
     },
     "execution_count": 38,
     "metadata": {},
     "output_type": "execute_result"
    }
   ],
   "source": [
    "data['Tour Card'].value_counts()"
   ]
  },
  {
   "cell_type": "code",
   "execution_count": 39,
   "metadata": {},
   "outputs": [
    {
     "data": {
      "text/plain": [
       "Yes       0.807692\n",
       "2 Year    0.128205\n",
       "No        0.064103\n",
       "Name: Tour Card, dtype: float64"
      ]
     },
     "execution_count": 39,
     "metadata": {},
     "output_type": "execute_result"
    }
   ],
   "source": [
    "data['Tour Card'].value_counts(normalize=True)"
   ]
  },
  {
   "cell_type": "markdown",
   "metadata": {},
   "source": [
    "<br>**Observation**: Non card holding members and 2 year card members don't rank higher that 77th place."
   ]
  },
  {
   "cell_type": "code",
   "execution_count": 40,
   "metadata": {},
   "outputs": [
    {
     "data": {
      "text/html": [
       "<div>\n",
       "<style scoped>\n",
       "    .dataframe tbody tr th:only-of-type {\n",
       "        vertical-align: middle;\n",
       "    }\n",
       "\n",
       "    .dataframe tbody tr th {\n",
       "        vertical-align: top;\n",
       "    }\n",
       "\n",
       "    .dataframe thead th {\n",
       "        text-align: right;\n",
       "    }\n",
       "</style>\n",
       "<table border=\"1\" class=\"dataframe\">\n",
       "  <thead>\n",
       "    <tr style=\"text-align: right;\">\n",
       "      <th></th>\n",
       "      <th>Name</th>\n",
       "      <th>Country</th>\n",
       "      <th>Age</th>\n",
       "      <th>Date Of Birth</th>\n",
       "      <th>Nickname</th>\n",
       "      <th>PDC Ranking</th>\n",
       "      <th>Tour Card</th>\n",
       "      <th>Career Earnings</th>\n",
       "      <th>ranking_index</th>\n",
       "      <th>earning_index</th>\n",
       "    </tr>\n",
       "  </thead>\n",
       "  <tbody>\n",
       "    <tr>\n",
       "      <th>5</th>\n",
       "      <td>Andy Hamilton</td>\n",
       "      <td>England</td>\n",
       "      <td>54</td>\n",
       "      <td>3/16/1967</td>\n",
       "      <td>The Hammer</td>\n",
       "      <td>105</td>\n",
       "      <td>2 Year</td>\n",
       "      <td>1089788</td>\n",
       "      <td>67</td>\n",
       "      <td>16</td>\n",
       "    </tr>\n",
       "    <tr>\n",
       "      <th>31</th>\n",
       "      <td>Scott Waites</td>\n",
       "      <td>England</td>\n",
       "      <td>44</td>\n",
       "      <td>2/17/1977</td>\n",
       "      <td>Scotty 2 Hotty</td>\n",
       "      <td>100</td>\n",
       "      <td>2 Year</td>\n",
       "      <td>679769</td>\n",
       "      <td>66</td>\n",
       "      <td>25</td>\n",
       "    </tr>\n",
       "    <tr>\n",
       "      <th>8</th>\n",
       "      <td>Wayne Jones</td>\n",
       "      <td>England</td>\n",
       "      <td>56</td>\n",
       "      <td>4/24/1965</td>\n",
       "      <td>The Wanderer</td>\n",
       "      <td>113</td>\n",
       "      <td>2 Year</td>\n",
       "      <td>588436</td>\n",
       "      <td>70</td>\n",
       "      <td>28</td>\n",
       "    </tr>\n",
       "    <tr>\n",
       "      <th>7</th>\n",
       "      <td>Alan Tabern</td>\n",
       "      <td>England</td>\n",
       "      <td>54</td>\n",
       "      <td>9/23/1966</td>\n",
       "      <td>The Saint</td>\n",
       "      <td>98</td>\n",
       "      <td>2 Year</td>\n",
       "      <td>443150</td>\n",
       "      <td>65</td>\n",
       "      <td>33</td>\n",
       "    </tr>\n",
       "    <tr>\n",
       "      <th>39</th>\n",
       "      <td>Steve Brown</td>\n",
       "      <td>England</td>\n",
       "      <td>40</td>\n",
       "      <td>1/25/1981</td>\n",
       "      <td>The Bomber</td>\n",
       "      <td>114</td>\n",
       "      <td>2 Year</td>\n",
       "      <td>177569</td>\n",
       "      <td>71</td>\n",
       "      <td>60</td>\n",
       "    </tr>\n",
       "    <tr>\n",
       "      <th>51</th>\n",
       "      <td>Wesley Harms</td>\n",
       "      <td>Netherlands</td>\n",
       "      <td>36</td>\n",
       "      <td>6/11/1984</td>\n",
       "      <td>Sparky</td>\n",
       "      <td>109</td>\n",
       "      <td>2 Year</td>\n",
       "      <td>175683</td>\n",
       "      <td>69</td>\n",
       "      <td>61</td>\n",
       "    </tr>\n",
       "    <tr>\n",
       "      <th>50</th>\n",
       "      <td>Lisa Ashton</td>\n",
       "      <td>England</td>\n",
       "      <td>50</td>\n",
       "      <td>8/27/1970</td>\n",
       "      <td>The Lancashire Rose</td>\n",
       "      <td>125</td>\n",
       "      <td>2 Year</td>\n",
       "      <td>150704</td>\n",
       "      <td>74</td>\n",
       "      <td>64</td>\n",
       "    </tr>\n",
       "    <tr>\n",
       "      <th>62</th>\n",
       "      <td>Dirk van Duijvenbode</td>\n",
       "      <td>Netherlands</td>\n",
       "      <td>28</td>\n",
       "      <td>6/30/1992</td>\n",
       "      <td>Titan</td>\n",
       "      <td>77</td>\n",
       "      <td>2 Year</td>\n",
       "      <td>131387</td>\n",
       "      <td>58</td>\n",
       "      <td>67</td>\n",
       "    </tr>\n",
       "    <tr>\n",
       "      <th>47</th>\n",
       "      <td>Jeff Smith</td>\n",
       "      <td>Canada</td>\n",
       "      <td>45</td>\n",
       "      <td>11/6/1975</td>\n",
       "      <td>The Silencer</td>\n",
       "      <td>92</td>\n",
       "      <td>2 Year</td>\n",
       "      <td>123511</td>\n",
       "      <td>63</td>\n",
       "      <td>69</td>\n",
       "    </tr>\n",
       "    <tr>\n",
       "      <th>49</th>\n",
       "      <td>Peter Jacques</td>\n",
       "      <td>England</td>\n",
       "      <td>48</td>\n",
       "      <td>3/29/1973</td>\n",
       "      <td>The Terrier</td>\n",
       "      <td>120</td>\n",
       "      <td>2 Year</td>\n",
       "      <td>62650</td>\n",
       "      <td>72</td>\n",
       "      <td>74</td>\n",
       "    </tr>\n",
       "  </tbody>\n",
       "</table>\n",
       "</div>"
      ],
      "text/plain": [
       "                    Name      Country  Age Date Of Birth             Nickname  \\\n",
       "5          Andy Hamilton      England   54     3/16/1967           The Hammer   \n",
       "31          Scott Waites      England   44     2/17/1977       Scotty 2 Hotty   \n",
       "8            Wayne Jones      England   56     4/24/1965         The Wanderer   \n",
       "7            Alan Tabern      England   54     9/23/1966            The Saint   \n",
       "39           Steve Brown      England   40     1/25/1981           The Bomber   \n",
       "51          Wesley Harms  Netherlands   36     6/11/1984               Sparky   \n",
       "50           Lisa Ashton      England   50     8/27/1970  The Lancashire Rose   \n",
       "62  Dirk van Duijvenbode  Netherlands   28     6/30/1992                Titan   \n",
       "47            Jeff Smith       Canada   45     11/6/1975         The Silencer   \n",
       "49         Peter Jacques      England   48     3/29/1973          The Terrier   \n",
       "\n",
       "    PDC Ranking Tour Card  Career Earnings  ranking_index  earning_index  \n",
       "5           105    2 Year          1089788             67             16  \n",
       "31          100    2 Year           679769             66             25  \n",
       "8           113    2 Year           588436             70             28  \n",
       "7            98    2 Year           443150             65             33  \n",
       "39          114    2 Year           177569             71             60  \n",
       "51          109    2 Year           175683             69             61  \n",
       "50          125    2 Year           150704             74             64  \n",
       "62           77    2 Year           131387             58             67  \n",
       "47           92    2 Year           123511             63             69  \n",
       "49          120    2 Year            62650             72             74  "
      ]
     },
     "execution_count": 40,
     "metadata": {},
     "output_type": "execute_result"
    }
   ],
   "source": [
    "data.loc[data['Tour Card'] == '2 Year']"
   ]
  },
  {
   "cell_type": "code",
   "execution_count": 41,
   "metadata": {},
   "outputs": [
    {
     "data": {
      "text/html": [
       "<div>\n",
       "<style scoped>\n",
       "    .dataframe tbody tr th:only-of-type {\n",
       "        vertical-align: middle;\n",
       "    }\n",
       "\n",
       "    .dataframe tbody tr th {\n",
       "        vertical-align: top;\n",
       "    }\n",
       "\n",
       "    .dataframe thead th {\n",
       "        text-align: right;\n",
       "    }\n",
       "</style>\n",
       "<table border=\"1\" class=\"dataframe\">\n",
       "  <thead>\n",
       "    <tr style=\"text-align: right;\">\n",
       "      <th></th>\n",
       "      <th>Name</th>\n",
       "      <th>Country</th>\n",
       "      <th>Age</th>\n",
       "      <th>Date Of Birth</th>\n",
       "      <th>Nickname</th>\n",
       "      <th>PDC Ranking</th>\n",
       "      <th>Tour Card</th>\n",
       "      <th>Career Earnings</th>\n",
       "      <th>ranking_index</th>\n",
       "      <th>earning_index</th>\n",
       "    </tr>\n",
       "  </thead>\n",
       "  <tbody>\n",
       "    <tr>\n",
       "      <th>24</th>\n",
       "      <td>Ronny Huybrechts</td>\n",
       "      <td>Belgium</td>\n",
       "      <td>55</td>\n",
       "      <td>7/20/1965</td>\n",
       "      <td>The Rebel</td>\n",
       "      <td>127</td>\n",
       "      <td>No</td>\n",
       "      <td>270743</td>\n",
       "      <td>76</td>\n",
       "      <td>45</td>\n",
       "    </tr>\n",
       "    <tr>\n",
       "      <th>41</th>\n",
       "      <td>Scott Mitchell</td>\n",
       "      <td>England</td>\n",
       "      <td>50</td>\n",
       "      <td>6/5/1970</td>\n",
       "      <td>Scotty Dog</td>\n",
       "      <td>107</td>\n",
       "      <td>No</td>\n",
       "      <td>264352</td>\n",
       "      <td>68</td>\n",
       "      <td>46</td>\n",
       "    </tr>\n",
       "    <tr>\n",
       "      <th>63</th>\n",
       "      <td>Andrew Gilding</td>\n",
       "      <td>England</td>\n",
       "      <td>50</td>\n",
       "      <td>12/7/1970</td>\n",
       "      <td>Goldfinger</td>\n",
       "      <td>126</td>\n",
       "      <td>No</td>\n",
       "      <td>234609</td>\n",
       "      <td>75</td>\n",
       "      <td>48</td>\n",
       "    </tr>\n",
       "    <tr>\n",
       "      <th>72</th>\n",
       "      <td>Diogo Portela</td>\n",
       "      <td>Brazil</td>\n",
       "      <td>32</td>\n",
       "      <td>6/12/1988</td>\n",
       "      <td>Braziliant</td>\n",
       "      <td>153</td>\n",
       "      <td>No</td>\n",
       "      <td>59367</td>\n",
       "      <td>77</td>\n",
       "      <td>75</td>\n",
       "    </tr>\n",
       "    <tr>\n",
       "      <th>71</th>\n",
       "      <td>Rhys Hayden</td>\n",
       "      <td>England</td>\n",
       "      <td>26</td>\n",
       "      <td>10/8/1994</td>\n",
       "      <td>Lightning</td>\n",
       "      <td>124</td>\n",
       "      <td>No</td>\n",
       "      <td>18672</td>\n",
       "      <td>73</td>\n",
       "      <td>77</td>\n",
       "    </tr>\n",
       "  </tbody>\n",
       "</table>\n",
       "</div>"
      ],
      "text/plain": [
       "                Name  Country  Age Date Of Birth    Nickname  PDC Ranking  \\\n",
       "24  Ronny Huybrechts  Belgium   55     7/20/1965   The Rebel          127   \n",
       "41    Scott Mitchell  England   50      6/5/1970  Scotty Dog          107   \n",
       "63    Andrew Gilding  England   50     12/7/1970  Goldfinger          126   \n",
       "72     Diogo Portela   Brazil   32     6/12/1988  Braziliant          153   \n",
       "71       Rhys Hayden  England   26     10/8/1994   Lightning          124   \n",
       "\n",
       "   Tour Card  Career Earnings  ranking_index  earning_index  \n",
       "24        No           270743             76             45  \n",
       "41        No           264352             68             46  \n",
       "63        No           234609             75             48  \n",
       "72        No            59367             77             75  \n",
       "71        No            18672             73             77  "
      ]
     },
     "execution_count": 41,
     "metadata": {},
     "output_type": "execute_result"
    }
   ],
   "source": [
    "data.loc[data['Tour Card'] == 'No']"
   ]
  },
  {
   "cell_type": "code",
   "execution_count": 317,
   "metadata": {},
   "outputs": [
    {
     "data": {
      "image/png": "[encoded data removed]",
      "text/plain": [
       "<Figure size 1440x720 with 1 Axes>"
      ]
     },
     "metadata": {
      "needs_background": "light"
     },
     "output_type": "display_data"
    }
   ],
   "source": [
    "plt.figure(figsize=(20,10))\n",
    "sns.stripplot(x='Career Earnings', y='Tour Card', data=data)\n",
    "plt.title('Career Earnings by Tour Card Status', fontsize = 20);"
   ]
  },
  {
   "cell_type": "markdown",
   "metadata": {},
   "source": [
    "<br>\n",
    "<br>"
   ]
  },
  {
   "cell_type": "markdown",
   "metadata": {},
   "source": [
    "## By Relationship: Country vs Ranking"
   ]
  },
  {
   "cell_type": "markdown",
   "metadata": {},
   "source": [
    "**Observation**: value may be helpful.  Countries where darts are historically more popular may correlate with higher performance rankings by their competitors.  Countries of lower player representation seem to produce competitors of lower performance rank."
   ]
  },
  {
   "cell_type": "code",
   "execution_count": 316,
   "metadata": {},
   "outputs": [
    {
     "data": {
      "image/png": "[encoded data removed]",
      "text/plain": [
       "<Figure size 1440x720 with 1 Axes>"
      ]
     },
     "metadata": {
      "needs_background": "light"
     },
     "output_type": "display_data"
    }
   ],
   "source": [
    "plt.figure(figsize=(20,10))\n",
    "ax = sns.boxplot(x='Country', y='PDC Ranking', data=data)\n",
    "ax = sns.swarmplot(x='Country', y='PDC Ranking', data=data, color='black')\n",
    "plt.title('Distribution of Rankings by Country', fontsize = 20);"
   ]
  },
  {
   "cell_type": "code",
   "execution_count": 315,
   "metadata": {},
   "outputs": [
    {
     "data": {
      "image/png": "[encoded data removed]",
      "text/plain": [
       "<Figure size 1440x720 with 1 Axes>"
      ]
     },
     "metadata": {
      "needs_background": "light"
     },
     "output_type": "display_data"
    }
   ],
   "source": [
    "plt.figure(figsize=(20,10))\n",
    "ax = sns.swarmplot(y='Country', x='PDC Ranking', data=data, size=10)\n",
    "plt.axvline(x=10.5, color='blue', ls='-', lw=3)\n",
    "plt.title('Distribution of Rankings by Country', fontsize = 20);"
   ]
  },
  {
   "cell_type": "markdown",
   "metadata": {},
   "source": [
    "<br><br>"
   ]
  },
  {
   "cell_type": "markdown",
   "metadata": {},
   "source": [
    "## By Relationship: Age vs Ranking"
   ]
  },
  {
   "cell_type": "markdown",
   "metadata": {},
   "source": [
    "**Observation**: Age and ranking do not appear to have a strong direct correlation."
   ]
  },
  {
   "cell_type": "code",
   "execution_count": 322,
   "metadata": {},
   "outputs": [
    {
     "data": {
      "image/png": "[encoded data removed]",
      "text/plain": [
       "<Figure size 1440x720 with 1 Axes>"
      ]
     },
     "metadata": {
      "needs_background": "light"
     },
     "output_type": "display_data"
    }
   ],
   "source": [
    "plt.figure(figsize=(20,10))\n",
    "sns.lineplot(y='Age', x='PDC Ranking', data=data, markers='o', color='red')\n",
    "plt.title('Rankings vs Ages', fontsize = 20);"
   ]
  },
  {
   "cell_type": "markdown",
   "metadata": {},
   "source": [
    "<br>\n",
    "<br>"
   ]
  },
  {
   "cell_type": "markdown",
   "metadata": {},
   "source": [
    "***\n",
    "***"
   ]
  },
  {
   "cell_type": "markdown",
   "metadata": {},
   "source": [
    "# Generate Final Dataset"
   ]
  },
  {
   "cell_type": "markdown",
   "metadata": {},
   "source": [
    "## Import additional dataset"
   ]
  },
  {
   "cell_type": "code",
   "execution_count": 324,
   "metadata": {},
   "outputs": [],
   "source": [
    "data2 = pd.read_csv('./data/Top500DartsPlayers.csv')"
   ]
  },
  {
   "cell_type": "code",
   "execution_count": 325,
   "metadata": {},
   "outputs": [
    {
     "data": {
      "text/html": [
       "<div>\n",
       "<style scoped>\n",
       "    .dataframe tbody tr th:only-of-type {\n",
       "        vertical-align: middle;\n",
       "    }\n",
       "\n",
       "    .dataframe tbody tr th {\n",
       "        vertical-align: top;\n",
       "    }\n",
       "\n",
       "    .dataframe thead th {\n",
       "        text-align: right;\n",
       "    }\n",
       "</style>\n",
       "<table border=\"1\" class=\"dataframe\">\n",
       "  <thead>\n",
       "    <tr style=\"text-align: right;\">\n",
       "      <th></th>\n",
       "      <th>Rank</th>\n",
       "      <th>Player</th>\n",
       "      <th>Country</th>\n",
       "      <th>Prize</th>\n",
       "    </tr>\n",
       "  </thead>\n",
       "  <tbody>\n",
       "    <tr>\n",
       "      <th>0</th>\n",
       "      <td>1</td>\n",
       "      <td>Michael van Gerwen</td>\n",
       "      <td>Netherlands</td>\n",
       "      <td>£8,321,167</td>\n",
       "    </tr>\n",
       "    <tr>\n",
       "      <th>1</th>\n",
       "      <td>2</td>\n",
       "      <td>Phil Taylor</td>\n",
       "      <td>England</td>\n",
       "      <td>£7,630,816</td>\n",
       "    </tr>\n",
       "    <tr>\n",
       "      <th>2</th>\n",
       "      <td>3</td>\n",
       "      <td>Gary Anderson</td>\n",
       "      <td>Scotland</td>\n",
       "      <td>£4,118,772</td>\n",
       "    </tr>\n",
       "    <tr>\n",
       "      <th>3</th>\n",
       "      <td>4</td>\n",
       "      <td>Raymond van Barneveld</td>\n",
       "      <td>Netherlands</td>\n",
       "      <td>£3,510,128</td>\n",
       "    </tr>\n",
       "    <tr>\n",
       "      <th>4</th>\n",
       "      <td>5</td>\n",
       "      <td>Peter Wright</td>\n",
       "      <td>Scotland</td>\n",
       "      <td>£3,470,888</td>\n",
       "    </tr>\n",
       "  </tbody>\n",
       "</table>\n",
       "</div>"
      ],
      "text/plain": [
       "   Rank                 Player      Country       Prize\n",
       "0     1     Michael van Gerwen  Netherlands  £8,321,167\n",
       "1     2            Phil Taylor      England  £7,630,816\n",
       "2     3          Gary Anderson     Scotland  £4,118,772\n",
       "3     4  Raymond van Barneveld  Netherlands  £3,510,128\n",
       "4     5           Peter Wright     Scotland  £3,470,888"
      ]
     },
     "execution_count": 325,
     "metadata": {},
     "output_type": "execute_result"
    }
   ],
   "source": [
    "data2.head()"
   ]
  },
  {
   "cell_type": "code",
   "execution_count": 116,
   "metadata": {},
   "outputs": [
    {
     "name": "stdout",
     "output_type": "stream",
     "text": [
      "<class 'pandas.core.frame.DataFrame'>\n",
      "RangeIndex: 500 entries, 0 to 499\n",
      "Data columns (total 4 columns):\n",
      " #   Column   Non-Null Count  Dtype \n",
      "---  ------   --------------  ----- \n",
      " 0   Rank     500 non-null    int64 \n",
      " 1   Player   500 non-null    object\n",
      " 2   Country  500 non-null    object\n",
      " 3   Prize    500 non-null    object\n",
      "dtypes: int64(1), object(3)\n",
      "memory usage: 15.8+ KB\n"
     ]
    }
   ],
   "source": [
    "data2.info()"
   ]
  },
  {
   "cell_type": "markdown",
   "metadata": {},
   "source": [
    "<br>\n",
    "<br>"
   ]
  },
  {
   "cell_type": "markdown",
   "metadata": {},
   "source": [
    "## Initial Dataset Notes:"
   ]
  },
  {
   "cell_type": "markdown",
   "metadata": {},
   "source": [
    "* 500 rows of players\n",
    "* no null values\n",
    "* \"Prize\" column is object dtype"
   ]
  },
  {
   "cell_type": "markdown",
   "metadata": {},
   "source": [
    "<br>\n",
    "<br>"
   ]
  },
  {
   "cell_type": "markdown",
   "metadata": {},
   "source": [
    "## Data Cleaning Section"
   ]
  },
  {
   "cell_type": "code",
   "execution_count": 117,
   "metadata": {},
   "outputs": [],
   "source": [
    "data2['Prize'].replace(\"[^0-9]\", \"\",regex=True, inplace = True)"
   ]
  },
  {
   "cell_type": "code",
   "execution_count": 118,
   "metadata": {},
   "outputs": [],
   "source": [
    "data2['Prize'] = data2['Prize'].astype(int)"
   ]
  },
  {
   "cell_type": "code",
   "execution_count": 119,
   "metadata": {},
   "outputs": [
    {
     "data": {
      "text/html": [
       "<div>\n",
       "<style scoped>\n",
       "    .dataframe tbody tr th:only-of-type {\n",
       "        vertical-align: middle;\n",
       "    }\n",
       "\n",
       "    .dataframe tbody tr th {\n",
       "        vertical-align: top;\n",
       "    }\n",
       "\n",
       "    .dataframe thead th {\n",
       "        text-align: right;\n",
       "    }\n",
       "</style>\n",
       "<table border=\"1\" class=\"dataframe\">\n",
       "  <thead>\n",
       "    <tr style=\"text-align: right;\">\n",
       "      <th></th>\n",
       "      <th>Rank</th>\n",
       "      <th>Player</th>\n",
       "      <th>Country</th>\n",
       "      <th>Prize</th>\n",
       "    </tr>\n",
       "  </thead>\n",
       "  <tbody>\n",
       "    <tr>\n",
       "      <th>0</th>\n",
       "      <td>1</td>\n",
       "      <td>Michael van Gerwen</td>\n",
       "      <td>Netherlands</td>\n",
       "      <td>8321167</td>\n",
       "    </tr>\n",
       "    <tr>\n",
       "      <th>1</th>\n",
       "      <td>2</td>\n",
       "      <td>Phil Taylor</td>\n",
       "      <td>England</td>\n",
       "      <td>7630816</td>\n",
       "    </tr>\n",
       "    <tr>\n",
       "      <th>2</th>\n",
       "      <td>3</td>\n",
       "      <td>Gary Anderson</td>\n",
       "      <td>Scotland</td>\n",
       "      <td>4118772</td>\n",
       "    </tr>\n",
       "    <tr>\n",
       "      <th>3</th>\n",
       "      <td>4</td>\n",
       "      <td>Raymond van Barneveld</td>\n",
       "      <td>Netherlands</td>\n",
       "      <td>3510128</td>\n",
       "    </tr>\n",
       "    <tr>\n",
       "      <th>4</th>\n",
       "      <td>5</td>\n",
       "      <td>Peter Wright</td>\n",
       "      <td>Scotland</td>\n",
       "      <td>3470888</td>\n",
       "    </tr>\n",
       "  </tbody>\n",
       "</table>\n",
       "</div>"
      ],
      "text/plain": [
       "   Rank                 Player      Country    Prize\n",
       "0     1     Michael van Gerwen  Netherlands  8321167\n",
       "1     2            Phil Taylor      England  7630816\n",
       "2     3          Gary Anderson     Scotland  4118772\n",
       "3     4  Raymond van Barneveld  Netherlands  3510128\n",
       "4     5           Peter Wright     Scotland  3470888"
      ]
     },
     "execution_count": 119,
     "metadata": {},
     "output_type": "execute_result"
    }
   ],
   "source": [
    "data2.head()"
   ]
  },
  {
   "cell_type": "markdown",
   "metadata": {},
   "source": [
    "<br>\n",
    "<br>"
   ]
  },
  {
   "cell_type": "markdown",
   "metadata": {},
   "source": [
    "## Dataframe Merge Section"
   ]
  },
  {
   "cell_type": "code",
   "execution_count": 291,
   "metadata": {},
   "outputs": [],
   "source": [
    "df = data2.merge(data, how='left', left_on='Player', right_on='Name')"
   ]
  },
  {
   "cell_type": "code",
   "execution_count": 292,
   "metadata": {},
   "outputs": [],
   "source": [
    "df = df.drop(columns=['ranking_index', 'earning_index', 'Nickname', 'Date Of Birth'])"
   ]
  },
  {
   "cell_type": "code",
   "execution_count": 293,
   "metadata": {},
   "outputs": [
    {
     "data": {
      "text/plain": [
       "78"
      ]
     },
     "execution_count": 293,
     "metadata": {},
     "output_type": "execute_result"
    }
   ],
   "source": [
    "# Confirm correct merge of all 78 player profiles into top 500 players info\n",
    "df.Name.count()"
   ]
  },
  {
   "cell_type": "code",
   "execution_count": 294,
   "metadata": {},
   "outputs": [],
   "source": [
    "df = df.drop(columns=['Name'])"
   ]
  },
  {
   "cell_type": "code",
   "execution_count": 295,
   "metadata": {},
   "outputs": [],
   "source": [
    "df = df.rename(columns={'Rank': 'Career Rank'})"
   ]
  },
  {
   "cell_type": "code",
   "execution_count": 296,
   "metadata": {},
   "outputs": [],
   "source": [
    "#Confirm continuity between Country_x and Country_y\n",
    "df['country_compare'] = np.where((df['Country_x'] == df['Country_y']) | (df['Country_y'] != np.nan), True, False)"
   ]
  },
  {
   "cell_type": "code",
   "execution_count": 297,
   "metadata": {},
   "outputs": [
    {
     "data": {
      "text/plain": [
       "True    500\n",
       "Name: country_compare, dtype: int64"
      ]
     },
     "execution_count": 297,
     "metadata": {},
     "output_type": "execute_result"
    }
   ],
   "source": [
    "# Check countries are full matches, and they are\n",
    "df['country_compare'].value_counts()"
   ]
  },
  {
   "cell_type": "code",
   "execution_count": 298,
   "metadata": {},
   "outputs": [],
   "source": [
    "# Delete following columns: 'Country_y', 'country_compare'\n",
    "# rename Country_x to 'Country'\n",
    "df = df.drop(columns=['Country_y', 'country_compare'])\n",
    "df = df.rename(columns={'Country_x': 'Country'})"
   ]
  },
  {
   "cell_type": "code",
   "execution_count": 299,
   "metadata": {},
   "outputs": [
    {
     "data": {
      "text/html": [
       "<div>\n",
       "<style scoped>\n",
       "    .dataframe tbody tr th:only-of-type {\n",
       "        vertical-align: middle;\n",
       "    }\n",
       "\n",
       "    .dataframe tbody tr th {\n",
       "        vertical-align: top;\n",
       "    }\n",
       "\n",
       "    .dataframe thead th {\n",
       "        text-align: right;\n",
       "    }\n",
       "</style>\n",
       "<table border=\"1\" class=\"dataframe\">\n",
       "  <thead>\n",
       "    <tr style=\"text-align: right;\">\n",
       "      <th></th>\n",
       "      <th>Career Rank</th>\n",
       "      <th>Player</th>\n",
       "      <th>Country</th>\n",
       "      <th>Prize</th>\n",
       "      <th>Age</th>\n",
       "      <th>PDC Ranking</th>\n",
       "      <th>Tour Card</th>\n",
       "      <th>Career Earnings</th>\n",
       "    </tr>\n",
       "  </thead>\n",
       "  <tbody>\n",
       "    <tr>\n",
       "      <th>0</th>\n",
       "      <td>1</td>\n",
       "      <td>Michael van Gerwen</td>\n",
       "      <td>Netherlands</td>\n",
       "      <td>8321167</td>\n",
       "      <td>32.0</td>\n",
       "      <td>1.0</td>\n",
       "      <td>Yes</td>\n",
       "      <td>8321167.0</td>\n",
       "    </tr>\n",
       "    <tr>\n",
       "      <th>1</th>\n",
       "      <td>2</td>\n",
       "      <td>Phil Taylor</td>\n",
       "      <td>England</td>\n",
       "      <td>7630816</td>\n",
       "      <td>NaN</td>\n",
       "      <td>NaN</td>\n",
       "      <td>NaN</td>\n",
       "      <td>NaN</td>\n",
       "    </tr>\n",
       "    <tr>\n",
       "      <th>2</th>\n",
       "      <td>3</td>\n",
       "      <td>Gary Anderson</td>\n",
       "      <td>Scotland</td>\n",
       "      <td>4118772</td>\n",
       "      <td>50.0</td>\n",
       "      <td>8.0</td>\n",
       "      <td>Yes</td>\n",
       "      <td>4118772.0</td>\n",
       "    </tr>\n",
       "    <tr>\n",
       "      <th>3</th>\n",
       "      <td>4</td>\n",
       "      <td>Raymond van Barneveld</td>\n",
       "      <td>Netherlands</td>\n",
       "      <td>3510128</td>\n",
       "      <td>NaN</td>\n",
       "      <td>NaN</td>\n",
       "      <td>NaN</td>\n",
       "      <td>NaN</td>\n",
       "    </tr>\n",
       "    <tr>\n",
       "      <th>4</th>\n",
       "      <td>5</td>\n",
       "      <td>Peter Wright</td>\n",
       "      <td>Scotland</td>\n",
       "      <td>3470888</td>\n",
       "      <td>51.0</td>\n",
       "      <td>2.0</td>\n",
       "      <td>Yes</td>\n",
       "      <td>3469888.0</td>\n",
       "    </tr>\n",
       "  </tbody>\n",
       "</table>\n",
       "</div>"
      ],
      "text/plain": [
       "   Career Rank                 Player      Country    Prize   Age  \\\n",
       "0            1     Michael van Gerwen  Netherlands  8321167  32.0   \n",
       "1            2            Phil Taylor      England  7630816   NaN   \n",
       "2            3          Gary Anderson     Scotland  4118772  50.0   \n",
       "3            4  Raymond van Barneveld  Netherlands  3510128   NaN   \n",
       "4            5           Peter Wright     Scotland  3470888  51.0   \n",
       "\n",
       "   PDC Ranking Tour Card  Career Earnings  \n",
       "0          1.0       Yes        8321167.0  \n",
       "1          NaN       NaN              NaN  \n",
       "2          8.0       Yes        4118772.0  \n",
       "3          NaN       NaN              NaN  \n",
       "4          2.0       Yes        3469888.0  "
      ]
     },
     "execution_count": 299,
     "metadata": {},
     "output_type": "execute_result"
    }
   ],
   "source": [
    "df.head()"
   ]
  },
  {
   "cell_type": "code",
   "execution_count": 300,
   "metadata": {},
   "outputs": [],
   "source": [
    "#Confirm continuity between Country_x and Country_y\n",
    "df['money_compare'] = np.where((df['Prize'] == df['Career Earnings']), True, False)"
   ]
  },
  {
   "cell_type": "code",
   "execution_count": 301,
   "metadata": {},
   "outputs": [
    {
     "data": {
      "text/plain": [
       "False    426\n",
       "True      74\n",
       "Name: money_compare, dtype: int64"
      ]
     },
     "execution_count": 301,
     "metadata": {},
     "output_type": "execute_result"
    }
   ],
   "source": [
    "# Check money columns are full matches, there are 4 rows that do not match\n",
    "df['money_compare'].value_counts()"
   ]
  },
  {
   "cell_type": "code",
   "execution_count": 302,
   "metadata": {},
   "outputs": [
    {
     "data": {
      "text/html": [
       "<div>\n",
       "<style scoped>\n",
       "    .dataframe tbody tr th:only-of-type {\n",
       "        vertical-align: middle;\n",
       "    }\n",
       "\n",
       "    .dataframe tbody tr th {\n",
       "        vertical-align: top;\n",
       "    }\n",
       "\n",
       "    .dataframe thead th {\n",
       "        text-align: right;\n",
       "    }\n",
       "</style>\n",
       "<table border=\"1\" class=\"dataframe\">\n",
       "  <thead>\n",
       "    <tr style=\"text-align: right;\">\n",
       "      <th></th>\n",
       "      <th>Career Rank</th>\n",
       "      <th>Player</th>\n",
       "      <th>Country</th>\n",
       "      <th>Prize</th>\n",
       "      <th>Age</th>\n",
       "      <th>PDC Ranking</th>\n",
       "      <th>Tour Card</th>\n",
       "      <th>Career Earnings</th>\n",
       "      <th>money_compare</th>\n",
       "    </tr>\n",
       "  </thead>\n",
       "  <tbody>\n",
       "    <tr>\n",
       "      <th>0</th>\n",
       "      <td>1</td>\n",
       "      <td>Michael van Gerwen</td>\n",
       "      <td>Netherlands</td>\n",
       "      <td>8321167</td>\n",
       "      <td>32.0</td>\n",
       "      <td>1.0</td>\n",
       "      <td>Yes</td>\n",
       "      <td>8321167.0</td>\n",
       "      <td>True</td>\n",
       "    </tr>\n",
       "    <tr>\n",
       "      <th>1</th>\n",
       "      <td>2</td>\n",
       "      <td>Phil Taylor</td>\n",
       "      <td>England</td>\n",
       "      <td>7630816</td>\n",
       "      <td>NaN</td>\n",
       "      <td>NaN</td>\n",
       "      <td>NaN</td>\n",
       "      <td>NaN</td>\n",
       "      <td>False</td>\n",
       "    </tr>\n",
       "    <tr>\n",
       "      <th>2</th>\n",
       "      <td>3</td>\n",
       "      <td>Gary Anderson</td>\n",
       "      <td>Scotland</td>\n",
       "      <td>4118772</td>\n",
       "      <td>50.0</td>\n",
       "      <td>8.0</td>\n",
       "      <td>Yes</td>\n",
       "      <td>4118772.0</td>\n",
       "      <td>True</td>\n",
       "    </tr>\n",
       "    <tr>\n",
       "      <th>3</th>\n",
       "      <td>4</td>\n",
       "      <td>Raymond van Barneveld</td>\n",
       "      <td>Netherlands</td>\n",
       "      <td>3510128</td>\n",
       "      <td>NaN</td>\n",
       "      <td>NaN</td>\n",
       "      <td>NaN</td>\n",
       "      <td>NaN</td>\n",
       "      <td>False</td>\n",
       "    </tr>\n",
       "    <tr>\n",
       "      <th>4</th>\n",
       "      <td>5</td>\n",
       "      <td>Peter Wright</td>\n",
       "      <td>Scotland</td>\n",
       "      <td>3470888</td>\n",
       "      <td>51.0</td>\n",
       "      <td>2.0</td>\n",
       "      <td>Yes</td>\n",
       "      <td>3469888.0</td>\n",
       "      <td>False</td>\n",
       "    </tr>\n",
       "  </tbody>\n",
       "</table>\n",
       "</div>"
      ],
      "text/plain": [
       "   Career Rank                 Player      Country    Prize   Age  \\\n",
       "0            1     Michael van Gerwen  Netherlands  8321167  32.0   \n",
       "1            2            Phil Taylor      England  7630816   NaN   \n",
       "2            3          Gary Anderson     Scotland  4118772  50.0   \n",
       "3            4  Raymond van Barneveld  Netherlands  3510128   NaN   \n",
       "4            5           Peter Wright     Scotland  3470888  51.0   \n",
       "\n",
       "   PDC Ranking Tour Card  Career Earnings  money_compare  \n",
       "0          1.0       Yes        8321167.0           True  \n",
       "1          NaN       NaN              NaN          False  \n",
       "2          8.0       Yes        4118772.0           True  \n",
       "3          NaN       NaN              NaN          False  \n",
       "4          2.0       Yes        3469888.0          False  "
      ]
     },
     "execution_count": 302,
     "metadata": {},
     "output_type": "execute_result"
    }
   ],
   "source": [
    "df.head()"
   ]
  },
  {
   "cell_type": "code",
   "execution_count": 303,
   "metadata": {},
   "outputs": [],
   "source": [
    "temp_df = df.loc[(df['money_compare'] == False) & (df['Career Earnings'] > 0)]"
   ]
  },
  {
   "cell_type": "code",
   "execution_count": 304,
   "metadata": {},
   "outputs": [
    {
     "name": "stderr",
     "output_type": "stream",
     "text": [
      "<ipython-input-304-9350af510d62>:1: SettingWithCopyWarning: \n",
      "A value is trying to be set on a copy of a slice from a DataFrame.\n",
      "Try using .loc[row_indexer,col_indexer] = value instead\n",
      "\n",
      "See the caveats in the documentation: https://pandas.pydata.org/pandas-docs/stable/user_guide/indexing.html#returning-a-view-versus-a-copy\n",
      "  temp_df['diff'] = (temp_df['Prize'] - temp_df['Career Earnings'])\n"
     ]
    }
   ],
   "source": [
    "temp_df['diff'] = (temp_df['Prize'] - temp_df['Career Earnings'])"
   ]
  },
  {
   "cell_type": "code",
   "execution_count": 305,
   "metadata": {},
   "outputs": [
    {
     "data": {
      "text/html": [
       "<div>\n",
       "<style scoped>\n",
       "    .dataframe tbody tr th:only-of-type {\n",
       "        vertical-align: middle;\n",
       "    }\n",
       "\n",
       "    .dataframe tbody tr th {\n",
       "        vertical-align: top;\n",
       "    }\n",
       "\n",
       "    .dataframe thead th {\n",
       "        text-align: right;\n",
       "    }\n",
       "</style>\n",
       "<table border=\"1\" class=\"dataframe\">\n",
       "  <thead>\n",
       "    <tr style=\"text-align: right;\">\n",
       "      <th></th>\n",
       "      <th>Career Rank</th>\n",
       "      <th>Player</th>\n",
       "      <th>Country</th>\n",
       "      <th>Prize</th>\n",
       "      <th>Age</th>\n",
       "      <th>PDC Ranking</th>\n",
       "      <th>Tour Card</th>\n",
       "      <th>Career Earnings</th>\n",
       "      <th>money_compare</th>\n",
       "      <th>diff</th>\n",
       "    </tr>\n",
       "  </thead>\n",
       "  <tbody>\n",
       "    <tr>\n",
       "      <th>4</th>\n",
       "      <td>5</td>\n",
       "      <td>Peter Wright</td>\n",
       "      <td>Scotland</td>\n",
       "      <td>3470888</td>\n",
       "      <td>51.0</td>\n",
       "      <td>2.0</td>\n",
       "      <td>Yes</td>\n",
       "      <td>3469888.0</td>\n",
       "      <td>False</td>\n",
       "      <td>1000.0</td>\n",
       "    </tr>\n",
       "    <tr>\n",
       "      <th>18</th>\n",
       "      <td>19</td>\n",
       "      <td>Steve Beaton</td>\n",
       "      <td>England</td>\n",
       "      <td>1109305</td>\n",
       "      <td>57.0</td>\n",
       "      <td>25.0</td>\n",
       "      <td>Yes</td>\n",
       "      <td>1109555.0</td>\n",
       "      <td>False</td>\n",
       "      <td>-250.0</td>\n",
       "    </tr>\n",
       "    <tr>\n",
       "      <th>41</th>\n",
       "      <td>42</td>\n",
       "      <td>Wayne Jones</td>\n",
       "      <td>England</td>\n",
       "      <td>587186</td>\n",
       "      <td>56.0</td>\n",
       "      <td>113.0</td>\n",
       "      <td>2 Year</td>\n",
       "      <td>588436.0</td>\n",
       "      <td>False</td>\n",
       "      <td>-1250.0</td>\n",
       "    </tr>\n",
       "    <tr>\n",
       "      <th>84</th>\n",
       "      <td>85</td>\n",
       "      <td>Barrie Bates</td>\n",
       "      <td>Wales</td>\n",
       "      <td>247063</td>\n",
       "      <td>51.0</td>\n",
       "      <td>95.0</td>\n",
       "      <td>Yes</td>\n",
       "      <td>246563.0</td>\n",
       "      <td>False</td>\n",
       "      <td>500.0</td>\n",
       "    </tr>\n",
       "  </tbody>\n",
       "</table>\n",
       "</div>"
      ],
      "text/plain": [
       "    Career Rank        Player   Country    Prize   Age  PDC Ranking Tour Card  \\\n",
       "4             5  Peter Wright  Scotland  3470888  51.0          2.0       Yes   \n",
       "18           19  Steve Beaton   England  1109305  57.0         25.0       Yes   \n",
       "41           42   Wayne Jones   England   587186  56.0        113.0    2 Year   \n",
       "84           85  Barrie Bates     Wales   247063  51.0         95.0       Yes   \n",
       "\n",
       "    Career Earnings  money_compare    diff  \n",
       "4         3469888.0          False  1000.0  \n",
       "18        1109555.0          False  -250.0  \n",
       "41         588436.0          False -1250.0  \n",
       "84         246563.0          False   500.0  "
      ]
     },
     "execution_count": 305,
     "metadata": {},
     "output_type": "execute_result"
    }
   ],
   "source": [
    "temp_df"
   ]
  },
  {
   "cell_type": "markdown",
   "metadata": {},
   "source": [
    "**Observation**: Errors between Prize and Career Earnings are small enough that the career earnings column can be discarded and the prize column can be used alone"
   ]
  },
  {
   "cell_type": "code",
   "execution_count": 306,
   "metadata": {},
   "outputs": [],
   "source": [
    "# Drop Career Earnings and money_compare columns\n",
    "df = df.drop(columns=['Career Earnings', 'money_compare', 'Prize'])\n",
    "\n",
    "# Drop all rows with NaNs (reduce back to 78 player profile rows)\n",
    "df = df.dropna()\n",
    "\n",
    "# Cast Age and PDC Ranking columns to ints\n",
    "df['Age'] = df['Age'].astype(int)\n",
    "df['PDC Ranking'] = df['PDC Ranking'].astype(int)\n",
    "\n",
    "# Rename Columns\n",
    "df = df.rename(columns={'PDC Ranking': 'PDC Rank'})"
   ]
  },
  {
   "cell_type": "code",
   "execution_count": 307,
   "metadata": {},
   "outputs": [],
   "source": [
    "df = df.reset_index(drop = True)"
   ]
  },
  {
   "cell_type": "code",
   "execution_count": 309,
   "metadata": {},
   "outputs": [],
   "source": [
    "column_names = [\"Player\", \"Country\", \"Age\", \"Career Rank\", \"PDC Rank\", \"Tour Card\"]\n",
    "\n",
    "df = df.reindex(columns=column_names)"
   ]
  },
  {
   "cell_type": "markdown",
   "metadata": {},
   "source": [
    "## Preview of final dataset"
   ]
  },
  {
   "cell_type": "code",
   "execution_count": 310,
   "metadata": {},
   "outputs": [
    {
     "data": {
      "text/html": [
       "<div>\n",
       "<style scoped>\n",
       "    .dataframe tbody tr th:only-of-type {\n",
       "        vertical-align: middle;\n",
       "    }\n",
       "\n",
       "    .dataframe tbody tr th {\n",
       "        vertical-align: top;\n",
       "    }\n",
       "\n",
       "    .dataframe thead th {\n",
       "        text-align: right;\n",
       "    }\n",
       "</style>\n",
       "<table border=\"1\" class=\"dataframe\">\n",
       "  <thead>\n",
       "    <tr style=\"text-align: right;\">\n",
       "      <th></th>\n",
       "      <th>Player</th>\n",
       "      <th>Country</th>\n",
       "      <th>Age</th>\n",
       "      <th>Career Rank</th>\n",
       "      <th>PDC Rank</th>\n",
       "      <th>Tour Card</th>\n",
       "    </tr>\n",
       "  </thead>\n",
       "  <tbody>\n",
       "    <tr>\n",
       "      <th>0</th>\n",
       "      <td>Michael van Gerwen</td>\n",
       "      <td>Netherlands</td>\n",
       "      <td>32</td>\n",
       "      <td>1</td>\n",
       "      <td>1</td>\n",
       "      <td>Yes</td>\n",
       "    </tr>\n",
       "    <tr>\n",
       "      <th>1</th>\n",
       "      <td>Gary Anderson</td>\n",
       "      <td>Scotland</td>\n",
       "      <td>50</td>\n",
       "      <td>3</td>\n",
       "      <td>8</td>\n",
       "      <td>Yes</td>\n",
       "    </tr>\n",
       "    <tr>\n",
       "      <th>2</th>\n",
       "      <td>Peter Wright</td>\n",
       "      <td>Scotland</td>\n",
       "      <td>51</td>\n",
       "      <td>5</td>\n",
       "      <td>2</td>\n",
       "      <td>Yes</td>\n",
       "    </tr>\n",
       "    <tr>\n",
       "      <th>3</th>\n",
       "      <td>James Wade</td>\n",
       "      <td>England</td>\n",
       "      <td>38</td>\n",
       "      <td>6</td>\n",
       "      <td>9</td>\n",
       "      <td>Yes</td>\n",
       "    </tr>\n",
       "    <tr>\n",
       "      <th>4</th>\n",
       "      <td>Adrian Lewis</td>\n",
       "      <td>England</td>\n",
       "      <td>36</td>\n",
       "      <td>7</td>\n",
       "      <td>13</td>\n",
       "      <td>Yes</td>\n",
       "    </tr>\n",
       "    <tr>\n",
       "      <th>...</th>\n",
       "      <td>...</td>\n",
       "      <td>...</td>\n",
       "      <td>...</td>\n",
       "      <td>...</td>\n",
       "      <td>...</td>\n",
       "      <td>...</td>\n",
       "    </tr>\n",
       "    <tr>\n",
       "      <th>73</th>\n",
       "      <td>John Michael</td>\n",
       "      <td>Greece</td>\n",
       "      <td>47</td>\n",
       "      <td>164</td>\n",
       "      <td>88</td>\n",
       "      <td>Yes</td>\n",
       "    </tr>\n",
       "    <tr>\n",
       "      <th>74</th>\n",
       "      <td>Peter Jacques</td>\n",
       "      <td>England</td>\n",
       "      <td>48</td>\n",
       "      <td>213</td>\n",
       "      <td>120</td>\n",
       "      <td>2 Year</td>\n",
       "    </tr>\n",
       "    <tr>\n",
       "      <th>75</th>\n",
       "      <td>Diogo Portela</td>\n",
       "      <td>Brazil</td>\n",
       "      <td>32</td>\n",
       "      <td>220</td>\n",
       "      <td>153</td>\n",
       "      <td>No</td>\n",
       "    </tr>\n",
       "    <tr>\n",
       "      <th>76</th>\n",
       "      <td>Conan Whitehead</td>\n",
       "      <td>England</td>\n",
       "      <td>35</td>\n",
       "      <td>244</td>\n",
       "      <td>75</td>\n",
       "      <td>Yes</td>\n",
       "    </tr>\n",
       "    <tr>\n",
       "      <th>77</th>\n",
       "      <td>Rhys Hayden</td>\n",
       "      <td>England</td>\n",
       "      <td>26</td>\n",
       "      <td>437</td>\n",
       "      <td>124</td>\n",
       "      <td>No</td>\n",
       "    </tr>\n",
       "  </tbody>\n",
       "</table>\n",
       "<p>78 rows × 6 columns</p>\n",
       "</div>"
      ],
      "text/plain": [
       "                Player      Country  Age  Career Rank  PDC Rank Tour Card\n",
       "0   Michael van Gerwen  Netherlands   32            1         1       Yes\n",
       "1        Gary Anderson     Scotland   50            3         8       Yes\n",
       "2         Peter Wright     Scotland   51            5         2       Yes\n",
       "3           James Wade      England   38            6         9       Yes\n",
       "4         Adrian Lewis      England   36            7        13       Yes\n",
       "..                 ...          ...  ...          ...       ...       ...\n",
       "73        John Michael       Greece   47          164        88       Yes\n",
       "74       Peter Jacques      England   48          213       120    2 Year\n",
       "75       Diogo Portela       Brazil   32          220       153        No\n",
       "76     Conan Whitehead      England   35          244        75       Yes\n",
       "77         Rhys Hayden      England   26          437       124        No\n",
       "\n",
       "[78 rows x 6 columns]"
      ]
     },
     "execution_count": 310,
     "metadata": {},
     "output_type": "execute_result"
    }
   ],
   "source": [
    "df"
   ]
  },
  {
   "cell_type": "markdown",
   "metadata": {},
   "source": [
    "#### Write final dataframe"
   ]
  },
  {
   "cell_type": "code",
   "execution_count": 326,
   "metadata": {},
   "outputs": [],
   "source": [
    "df.to_csv('./data/finalPlayerProfileData.csv', index=False)"
   ]
  }
 ],
 "metadata": {
  "kernelspec": {
   "display_name": "Python 3",
   "language": "python",
   "name": "python3"
  },
  "language_info": {
   "codemirror_mode": {
    "name": "ipython",
    "version": 3
   },
   "file_extension": ".py",
   "mimetype": "text/x-python",
   "name": "python",
   "nbconvert_exporter": "python",
   "pygments_lexer": "ipython3",
   "version": "3.8.2"
  }
 },
 "nbformat": 4,
 "nbformat_minor": 4
}
