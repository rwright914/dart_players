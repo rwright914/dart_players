{
 "cells": [
  {
   "cell_type": "markdown",
   "metadata": {},
   "source": [
    "# Preliminary Findings Report\n",
    "Performed by: Rebecca Wright<br>\n",
    "Date: May 12, 2021<br>\n",
    "\n",
    "> ## Index:\n",
    "> * Findings Overview\n",
    "> * Background Research"
   ]
  },
  {
   "cell_type": "markdown",
   "metadata": {},
   "source": [
    "***\n",
    "***"
   ]
  },
  {
   "cell_type": "markdown",
   "metadata": {},
   "source": [
    "## Findings Overview"
   ]
  },
  {
   "cell_type": "markdown",
   "metadata": {},
   "source": [
    "* A higher PDC Ranking indicates a higher levels of recent performance based on tournament winnings during the last 2 years."
   ]
  },
  {
   "cell_type": "markdown",
   "metadata": {},
   "source": [
    "* A higher Career Earnings amount indicates higher levels of long-term performance based on tournament winnings during the length of one's career."
   ]
  },
  {
   "cell_type": "markdown",
   "metadata": {},
   "source": [
    "* The length of a player's career (the number of years they've been active) is not directly represented in the dataset.  A tentative relationship could be drawn between player age and years active, based on the assumption that older players are likely to have been playing competitively for more years that younger players."
   ]
  },
  {
   "cell_type": "markdown",
   "metadata": {},
   "source": [
    "* With competitive darts being most popular in the UK and Netherlands in general, it is likely to see higher performance rankings by competitors from those countries.  Countries of lower player representation seem to produce competitors of lower PDC performance rank.  This may be result partially from the fact that darts are not a prominent part of that countries larger culture."
   ]
  },
  {
   "cell_type": "markdown",
   "metadata": {},
   "source": [
    "* Possessing a full Tour Card indicates that the player is currently within  the top 64 player rankings based on the Professional Darts Corporation's Order of Merit system, where as \"2 Year\" card status indicates newcomer or \"up-and-coming\" status, and No card indicates that they are neither in the top 64, nor have they won a card entrance spot through competition in the PDC Qualifying School.  Players who win a card through the Q-School have their ranking reset to zero.  (It is unclear to me if the \"0\" would be of high or low standing.  It is possible that if the 0 is representative of \"high standing\", there may need to be further discussion on some base assumptions of ranking value.)"
   ]
  },
  {
   "cell_type": "markdown",
   "metadata": {},
   "source": [
    "***\n",
    "***"
   ]
  },
  {
   "cell_type": "markdown",
   "metadata": {},
   "source": [
    "## Background Research"
   ]
  },
  {
   "cell_type": "markdown",
   "metadata": {},
   "source": [
    "* The **Professional Darts Corporation's Ranking (PDC Ranking)** is based on the amount of prize money won in ranking tournaments over the past two years.<br>\n",
    "[source: wikipedia](https://en.wikipedia.org/wiki/Darts_world_rankings)"
   ]
  },
  {
   "cell_type": "markdown",
   "metadata": {},
   "source": [
    "* A 2021 **Tour Card** is needed to compete in Professional Darts Corporation ProTour tournaments.\n",
    "* In total 128 players are granted **Tour Cards**, which enables them to participate in all Players Championships and European Tour Qualifiers.\n",
    "* Most **Tour Cards** are valid for 2 years.\n",
    "* **The top 64 in the PDC Order of Merit all receive Tour Cards automatically, and those who won a two-year card in 2020 still had a valid card for 2021.** The top 2 of the 2019 Challenge Tour and Development Tour also won cards. The remaining places will be awarded at the 2021 Qualifying Schools (Q-Schools are PDC open competitions for any ambitious player). All players who won a card at either Q-School had their Order of Merit ranking reset to zero.\n",
    "<br>[source: wikipedia](https://en.wikipedia.org/wiki/List_of_players_with_a_2021_PDC_Tour_Card#:~:text=A%202021%20Tour%20Card%20is,are%20valid%20for%202%20years.)"
   ]
  }
 ],
 "metadata": {
  "kernelspec": {
   "display_name": "Python 3",
   "language": "python",
   "name": "python3"
  },
  "language_info": {
   "codemirror_mode": {
    "name": "ipython",
    "version": 3
   },
   "file_extension": ".py",
   "mimetype": "text/x-python",
   "name": "python",
   "nbconvert_exporter": "python",
   "pygments_lexer": "ipython3",
   "version": "3.8.2"
  }
 },
 "nbformat": 4,
 "nbformat_minor": 4
}
